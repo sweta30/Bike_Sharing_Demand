{
 "cells": [
  {
   "cell_type": "markdown",
   "id": "ecc3568e",
   "metadata": {},
   "source": [
    "# Multiple Linear Regression Assignment - Bike Sharing Demand"
   ]
  },
  {
   "cell_type": "markdown",
   "id": "7f3b6028",
   "metadata": {},
   "source": [
    "## Importing important libraries"
   ]
  },
  {
   "cell_type": "code",
   "execution_count": 1,
   "id": "5d08b3d6",
   "metadata": {},
   "outputs": [],
   "source": [
    "#importing numpy , pandas , matplotlib and seaborn\n",
    "\n",
    "import numpy as np\n",
    "import pandas as pd\n",
    "import matplotlib.pyplot as plt\n",
    "import seaborn as sns"
   ]
  },
  {
   "cell_type": "code",
   "execution_count": 2,
   "id": "2624a5d8",
   "metadata": {},
   "outputs": [],
   "source": [
    "#importing warnings library to ignore warnings\n",
    "\n",
    "import warnings\n",
    "warnings.filterwarnings('ignore')"
   ]
  },
  {
   "cell_type": "markdown",
   "id": "4af04e05",
   "metadata": {},
   "source": [
    "## We will perform below steps as part of assignment"
   ]
  },
  {
   "cell_type": "markdown",
   "id": "3dbd0022",
   "metadata": {},
   "source": [
    "- Data exploration\n",
    "- Data visualization\n",
    "- Data preparation \n",
    "- Linear model building \n",
    "- Model evalution"
   ]
  },
  {
   "cell_type": "markdown",
   "id": "ec9c5e23",
   "metadata": {},
   "source": [
    "## 1. Data Exploration"
   ]
  },
  {
   "cell_type": "markdown",
   "id": "c0fe2922",
   "metadata": {},
   "source": [
    "### 1.1 Reading and understanding data "
   ]
  },
  {
   "cell_type": "code",
   "execution_count": 3,
   "id": "6f67980f",
   "metadata": {},
   "outputs": [
    {
     "data": {
      "text/html": [
       "<div>\n",
       "<style scoped>\n",
       "    .dataframe tbody tr th:only-of-type {\n",
       "        vertical-align: middle;\n",
       "    }\n",
       "\n",
       "    .dataframe tbody tr th {\n",
       "        vertical-align: top;\n",
       "    }\n",
       "\n",
       "    .dataframe thead th {\n",
       "        text-align: right;\n",
       "    }\n",
       "</style>\n",
       "<table border=\"1\" class=\"dataframe\">\n",
       "  <thead>\n",
       "    <tr style=\"text-align: right;\">\n",
       "      <th></th>\n",
       "      <th>instant</th>\n",
       "      <th>dteday</th>\n",
       "      <th>season</th>\n",
       "      <th>yr</th>\n",
       "      <th>mnth</th>\n",
       "      <th>holiday</th>\n",
       "      <th>weekday</th>\n",
       "      <th>workingday</th>\n",
       "      <th>weathersit</th>\n",
       "      <th>temp</th>\n",
       "      <th>atemp</th>\n",
       "      <th>hum</th>\n",
       "      <th>windspeed</th>\n",
       "      <th>casual</th>\n",
       "      <th>registered</th>\n",
       "      <th>cnt</th>\n",
       "    </tr>\n",
       "  </thead>\n",
       "  <tbody>\n",
       "    <tr>\n",
       "      <th>0</th>\n",
       "      <td>1</td>\n",
       "      <td>01-01-2018</td>\n",
       "      <td>1</td>\n",
       "      <td>0</td>\n",
       "      <td>1</td>\n",
       "      <td>0</td>\n",
       "      <td>1</td>\n",
       "      <td>1</td>\n",
       "      <td>2</td>\n",
       "      <td>14.110847</td>\n",
       "      <td>18.18125</td>\n",
       "      <td>80.5833</td>\n",
       "      <td>10.749882</td>\n",
       "      <td>331</td>\n",
       "      <td>654</td>\n",
       "      <td>985</td>\n",
       "    </tr>\n",
       "    <tr>\n",
       "      <th>1</th>\n",
       "      <td>2</td>\n",
       "      <td>02-01-2018</td>\n",
       "      <td>1</td>\n",
       "      <td>0</td>\n",
       "      <td>1</td>\n",
       "      <td>0</td>\n",
       "      <td>2</td>\n",
       "      <td>1</td>\n",
       "      <td>2</td>\n",
       "      <td>14.902598</td>\n",
       "      <td>17.68695</td>\n",
       "      <td>69.6087</td>\n",
       "      <td>16.652113</td>\n",
       "      <td>131</td>\n",
       "      <td>670</td>\n",
       "      <td>801</td>\n",
       "    </tr>\n",
       "    <tr>\n",
       "      <th>2</th>\n",
       "      <td>3</td>\n",
       "      <td>03-01-2018</td>\n",
       "      <td>1</td>\n",
       "      <td>0</td>\n",
       "      <td>1</td>\n",
       "      <td>0</td>\n",
       "      <td>3</td>\n",
       "      <td>1</td>\n",
       "      <td>1</td>\n",
       "      <td>8.050924</td>\n",
       "      <td>9.47025</td>\n",
       "      <td>43.7273</td>\n",
       "      <td>16.636703</td>\n",
       "      <td>120</td>\n",
       "      <td>1229</td>\n",
       "      <td>1349</td>\n",
       "    </tr>\n",
       "    <tr>\n",
       "      <th>3</th>\n",
       "      <td>4</td>\n",
       "      <td>04-01-2018</td>\n",
       "      <td>1</td>\n",
       "      <td>0</td>\n",
       "      <td>1</td>\n",
       "      <td>0</td>\n",
       "      <td>4</td>\n",
       "      <td>1</td>\n",
       "      <td>1</td>\n",
       "      <td>8.200000</td>\n",
       "      <td>10.60610</td>\n",
       "      <td>59.0435</td>\n",
       "      <td>10.739832</td>\n",
       "      <td>108</td>\n",
       "      <td>1454</td>\n",
       "      <td>1562</td>\n",
       "    </tr>\n",
       "    <tr>\n",
       "      <th>4</th>\n",
       "      <td>5</td>\n",
       "      <td>05-01-2018</td>\n",
       "      <td>1</td>\n",
       "      <td>0</td>\n",
       "      <td>1</td>\n",
       "      <td>0</td>\n",
       "      <td>5</td>\n",
       "      <td>1</td>\n",
       "      <td>1</td>\n",
       "      <td>9.305237</td>\n",
       "      <td>11.46350</td>\n",
       "      <td>43.6957</td>\n",
       "      <td>12.522300</td>\n",
       "      <td>82</td>\n",
       "      <td>1518</td>\n",
       "      <td>1600</td>\n",
       "    </tr>\n",
       "  </tbody>\n",
       "</table>\n",
       "</div>"
      ],
      "text/plain": [
       "   instant      dteday  season  yr  mnth  holiday  weekday  workingday  \\\n",
       "0        1  01-01-2018       1   0     1        0        1           1   \n",
       "1        2  02-01-2018       1   0     1        0        2           1   \n",
       "2        3  03-01-2018       1   0     1        0        3           1   \n",
       "3        4  04-01-2018       1   0     1        0        4           1   \n",
       "4        5  05-01-2018       1   0     1        0        5           1   \n",
       "\n",
       "   weathersit       temp     atemp      hum  windspeed  casual  registered  \\\n",
       "0           2  14.110847  18.18125  80.5833  10.749882     331         654   \n",
       "1           2  14.902598  17.68695  69.6087  16.652113     131         670   \n",
       "2           1   8.050924   9.47025  43.7273  16.636703     120        1229   \n",
       "3           1   8.200000  10.60610  59.0435  10.739832     108        1454   \n",
       "4           1   9.305237  11.46350  43.6957  12.522300      82        1518   \n",
       "\n",
       "    cnt  \n",
       "0   985  \n",
       "1   801  \n",
       "2  1349  \n",
       "3  1562  \n",
       "4  1600  "
      ]
     },
     "execution_count": 3,
     "metadata": {},
     "output_type": "execute_result"
    }
   ],
   "source": [
    "#importing bike sharing data from 'day.csv'\n",
    "\n",
    "bike_df=pd.read_csv('day.csv')\n",
    "bike_df.head()"
   ]
  },
  {
   "cell_type": "code",
   "execution_count": 4,
   "id": "49083f15",
   "metadata": {},
   "outputs": [
    {
     "data": {
      "text/plain": [
       "(730, 16)"
      ]
     },
     "execution_count": 4,
     "metadata": {},
     "output_type": "execute_result"
    }
   ],
   "source": [
    "#Checking shape\n",
    "\n",
    "bike_df.shape"
   ]
  },
  {
   "cell_type": "code",
   "execution_count": 5,
   "id": "0d1f37fc",
   "metadata": {},
   "outputs": [
    {
     "name": "stdout",
     "output_type": "stream",
     "text": [
      "<class 'pandas.core.frame.DataFrame'>\n",
      "RangeIndex: 730 entries, 0 to 729\n",
      "Data columns (total 16 columns):\n",
      " #   Column      Non-Null Count  Dtype  \n",
      "---  ------      --------------  -----  \n",
      " 0   instant     730 non-null    int64  \n",
      " 1   dteday      730 non-null    object \n",
      " 2   season      730 non-null    int64  \n",
      " 3   yr          730 non-null    int64  \n",
      " 4   mnth        730 non-null    int64  \n",
      " 5   holiday     730 non-null    int64  \n",
      " 6   weekday     730 non-null    int64  \n",
      " 7   workingday  730 non-null    int64  \n",
      " 8   weathersit  730 non-null    int64  \n",
      " 9   temp        730 non-null    float64\n",
      " 10  atemp       730 non-null    float64\n",
      " 11  hum         730 non-null    float64\n",
      " 12  windspeed   730 non-null    float64\n",
      " 13  casual      730 non-null    int64  \n",
      " 14  registered  730 non-null    int64  \n",
      " 15  cnt         730 non-null    int64  \n",
      "dtypes: float64(4), int64(11), object(1)\n",
      "memory usage: 91.4+ KB\n"
     ]
    }
   ],
   "source": [
    "#checking column data types\n",
    "\n",
    "bike_df.info()"
   ]
  },
  {
   "cell_type": "code",
   "execution_count": 6,
   "id": "c55adf45",
   "metadata": {},
   "outputs": [
    {
     "data": {
      "text/html": [
       "<div>\n",
       "<style scoped>\n",
       "    .dataframe tbody tr th:only-of-type {\n",
       "        vertical-align: middle;\n",
       "    }\n",
       "\n",
       "    .dataframe tbody tr th {\n",
       "        vertical-align: top;\n",
       "    }\n",
       "\n",
       "    .dataframe thead th {\n",
       "        text-align: right;\n",
       "    }\n",
       "</style>\n",
       "<table border=\"1\" class=\"dataframe\">\n",
       "  <thead>\n",
       "    <tr style=\"text-align: right;\">\n",
       "      <th></th>\n",
       "      <th>instant</th>\n",
       "      <th>season</th>\n",
       "      <th>yr</th>\n",
       "      <th>mnth</th>\n",
       "      <th>holiday</th>\n",
       "      <th>weekday</th>\n",
       "      <th>workingday</th>\n",
       "      <th>weathersit</th>\n",
       "      <th>temp</th>\n",
       "      <th>atemp</th>\n",
       "      <th>hum</th>\n",
       "      <th>windspeed</th>\n",
       "      <th>casual</th>\n",
       "      <th>registered</th>\n",
       "      <th>cnt</th>\n",
       "    </tr>\n",
       "  </thead>\n",
       "  <tbody>\n",
       "    <tr>\n",
       "      <th>count</th>\n",
       "      <td>730.000000</td>\n",
       "      <td>730.000000</td>\n",
       "      <td>730.000000</td>\n",
       "      <td>730.000000</td>\n",
       "      <td>730.000000</td>\n",
       "      <td>730.000000</td>\n",
       "      <td>730.000000</td>\n",
       "      <td>730.000000</td>\n",
       "      <td>730.000000</td>\n",
       "      <td>730.000000</td>\n",
       "      <td>730.000000</td>\n",
       "      <td>730.000000</td>\n",
       "      <td>730.000000</td>\n",
       "      <td>730.000000</td>\n",
       "      <td>730.000000</td>\n",
       "    </tr>\n",
       "    <tr>\n",
       "      <th>mean</th>\n",
       "      <td>365.500000</td>\n",
       "      <td>2.498630</td>\n",
       "      <td>0.500000</td>\n",
       "      <td>6.526027</td>\n",
       "      <td>0.028767</td>\n",
       "      <td>2.995890</td>\n",
       "      <td>0.690411</td>\n",
       "      <td>1.394521</td>\n",
       "      <td>20.319259</td>\n",
       "      <td>23.726322</td>\n",
       "      <td>62.765175</td>\n",
       "      <td>12.763620</td>\n",
       "      <td>849.249315</td>\n",
       "      <td>3658.757534</td>\n",
       "      <td>4508.006849</td>\n",
       "    </tr>\n",
       "    <tr>\n",
       "      <th>std</th>\n",
       "      <td>210.877136</td>\n",
       "      <td>1.110184</td>\n",
       "      <td>0.500343</td>\n",
       "      <td>3.450215</td>\n",
       "      <td>0.167266</td>\n",
       "      <td>2.000339</td>\n",
       "      <td>0.462641</td>\n",
       "      <td>0.544807</td>\n",
       "      <td>7.506729</td>\n",
       "      <td>8.150308</td>\n",
       "      <td>14.237589</td>\n",
       "      <td>5.195841</td>\n",
       "      <td>686.479875</td>\n",
       "      <td>1559.758728</td>\n",
       "      <td>1936.011647</td>\n",
       "    </tr>\n",
       "    <tr>\n",
       "      <th>min</th>\n",
       "      <td>1.000000</td>\n",
       "      <td>1.000000</td>\n",
       "      <td>0.000000</td>\n",
       "      <td>1.000000</td>\n",
       "      <td>0.000000</td>\n",
       "      <td>0.000000</td>\n",
       "      <td>0.000000</td>\n",
       "      <td>1.000000</td>\n",
       "      <td>2.424346</td>\n",
       "      <td>3.953480</td>\n",
       "      <td>0.000000</td>\n",
       "      <td>1.500244</td>\n",
       "      <td>2.000000</td>\n",
       "      <td>20.000000</td>\n",
       "      <td>22.000000</td>\n",
       "    </tr>\n",
       "    <tr>\n",
       "      <th>25%</th>\n",
       "      <td>183.250000</td>\n",
       "      <td>2.000000</td>\n",
       "      <td>0.000000</td>\n",
       "      <td>4.000000</td>\n",
       "      <td>0.000000</td>\n",
       "      <td>1.000000</td>\n",
       "      <td>0.000000</td>\n",
       "      <td>1.000000</td>\n",
       "      <td>13.811885</td>\n",
       "      <td>16.889713</td>\n",
       "      <td>52.000000</td>\n",
       "      <td>9.041650</td>\n",
       "      <td>316.250000</td>\n",
       "      <td>2502.250000</td>\n",
       "      <td>3169.750000</td>\n",
       "    </tr>\n",
       "    <tr>\n",
       "      <th>50%</th>\n",
       "      <td>365.500000</td>\n",
       "      <td>3.000000</td>\n",
       "      <td>0.500000</td>\n",
       "      <td>7.000000</td>\n",
       "      <td>0.000000</td>\n",
       "      <td>3.000000</td>\n",
       "      <td>1.000000</td>\n",
       "      <td>1.000000</td>\n",
       "      <td>20.465826</td>\n",
       "      <td>24.368225</td>\n",
       "      <td>62.625000</td>\n",
       "      <td>12.125325</td>\n",
       "      <td>717.000000</td>\n",
       "      <td>3664.500000</td>\n",
       "      <td>4548.500000</td>\n",
       "    </tr>\n",
       "    <tr>\n",
       "      <th>75%</th>\n",
       "      <td>547.750000</td>\n",
       "      <td>3.000000</td>\n",
       "      <td>1.000000</td>\n",
       "      <td>10.000000</td>\n",
       "      <td>0.000000</td>\n",
       "      <td>5.000000</td>\n",
       "      <td>1.000000</td>\n",
       "      <td>2.000000</td>\n",
       "      <td>26.880615</td>\n",
       "      <td>30.445775</td>\n",
       "      <td>72.989575</td>\n",
       "      <td>15.625589</td>\n",
       "      <td>1096.500000</td>\n",
       "      <td>4783.250000</td>\n",
       "      <td>5966.000000</td>\n",
       "    </tr>\n",
       "    <tr>\n",
       "      <th>max</th>\n",
       "      <td>730.000000</td>\n",
       "      <td>4.000000</td>\n",
       "      <td>1.000000</td>\n",
       "      <td>12.000000</td>\n",
       "      <td>1.000000</td>\n",
       "      <td>6.000000</td>\n",
       "      <td>1.000000</td>\n",
       "      <td>3.000000</td>\n",
       "      <td>35.328347</td>\n",
       "      <td>42.044800</td>\n",
       "      <td>97.250000</td>\n",
       "      <td>34.000021</td>\n",
       "      <td>3410.000000</td>\n",
       "      <td>6946.000000</td>\n",
       "      <td>8714.000000</td>\n",
       "    </tr>\n",
       "  </tbody>\n",
       "</table>\n",
       "</div>"
      ],
      "text/plain": [
       "          instant      season          yr        mnth     holiday     weekday  \\\n",
       "count  730.000000  730.000000  730.000000  730.000000  730.000000  730.000000   \n",
       "mean   365.500000    2.498630    0.500000    6.526027    0.028767    2.995890   \n",
       "std    210.877136    1.110184    0.500343    3.450215    0.167266    2.000339   \n",
       "min      1.000000    1.000000    0.000000    1.000000    0.000000    0.000000   \n",
       "25%    183.250000    2.000000    0.000000    4.000000    0.000000    1.000000   \n",
       "50%    365.500000    3.000000    0.500000    7.000000    0.000000    3.000000   \n",
       "75%    547.750000    3.000000    1.000000   10.000000    0.000000    5.000000   \n",
       "max    730.000000    4.000000    1.000000   12.000000    1.000000    6.000000   \n",
       "\n",
       "       workingday  weathersit        temp       atemp         hum   windspeed  \\\n",
       "count  730.000000  730.000000  730.000000  730.000000  730.000000  730.000000   \n",
       "mean     0.690411    1.394521   20.319259   23.726322   62.765175   12.763620   \n",
       "std      0.462641    0.544807    7.506729    8.150308   14.237589    5.195841   \n",
       "min      0.000000    1.000000    2.424346    3.953480    0.000000    1.500244   \n",
       "25%      0.000000    1.000000   13.811885   16.889713   52.000000    9.041650   \n",
       "50%      1.000000    1.000000   20.465826   24.368225   62.625000   12.125325   \n",
       "75%      1.000000    2.000000   26.880615   30.445775   72.989575   15.625589   \n",
       "max      1.000000    3.000000   35.328347   42.044800   97.250000   34.000021   \n",
       "\n",
       "            casual   registered          cnt  \n",
       "count   730.000000   730.000000   730.000000  \n",
       "mean    849.249315  3658.757534  4508.006849  \n",
       "std     686.479875  1559.758728  1936.011647  \n",
       "min       2.000000    20.000000    22.000000  \n",
       "25%     316.250000  2502.250000  3169.750000  \n",
       "50%     717.000000  3664.500000  4548.500000  \n",
       "75%    1096.500000  4783.250000  5966.000000  \n",
       "max    3410.000000  6946.000000  8714.000000  "
      ]
     },
     "execution_count": 6,
     "metadata": {},
     "output_type": "execute_result"
    }
   ],
   "source": [
    "#analysing numberical columns\n",
    "\n",
    "bike_df.describe()"
   ]
  },
  {
   "cell_type": "code",
   "execution_count": 7,
   "id": "25f71359",
   "metadata": {},
   "outputs": [
    {
     "data": {
      "text/plain": [
       "instant       0\n",
       "dteday        0\n",
       "season        0\n",
       "yr            0\n",
       "mnth          0\n",
       "holiday       0\n",
       "weekday       0\n",
       "workingday    0\n",
       "weathersit    0\n",
       "temp          0\n",
       "atemp         0\n",
       "hum           0\n",
       "windspeed     0\n",
       "casual        0\n",
       "registered    0\n",
       "cnt           0\n",
       "dtype: int64"
      ]
     },
     "execution_count": 7,
     "metadata": {},
     "output_type": "execute_result"
    }
   ],
   "source": [
    "# Checking null values for each columns\n",
    "\n",
    "bike_df.isnull().sum()"
   ]
  },
  {
   "cell_type": "markdown",
   "id": "b2a511c0",
   "metadata": {},
   "source": [
    "###  Insights\n",
    "  1. There is 730 rows and 16 columns.\n",
    "  2. One column is Object type else others are either type integer or float.\n",
    "  3. Difference between mean and median is not much,so we can conclude that numerical columns are not having outliers.\n",
    "  4. None of columns are having null values\n",
    "  5. There is some intergers columns but catergorical in nature . Need to analyse those columns."
   ]
  },
  {
   "cell_type": "markdown",
   "id": "e350cad0",
   "metadata": {},
   "source": [
    "### 1.2 Handling categorical columns"
   ]
  },
  {
   "cell_type": "code",
   "execution_count": 8,
   "id": "2adf8f04",
   "metadata": {},
   "outputs": [],
   "source": [
    "# Handling columns those are categorical in nature . Mapping it to actual value.\n",
    "# season ,yr ,mnth ,holiday ,weekday ,workingday ,weathersit --> these are the columns with categorical values. \n",
    "# We will apply map to these columns except yr ,holiday , workingday as these columns are having binary values. \n",
    "# so resultant will be same after applying dummies function.\n",
    "\n",
    "bike_df.season = bike_df.season.map({1:'Spring',2:'Summer',3:'Fall',4:'Winter'})\n",
    "\n",
    "bike_df.mnth = bike_df.mnth.map({1:'Jan',2:'Feb',3:'Mar',4:'Apr',5:'May',6:'Jun',7:'Jul',8:'Aug',9:'Sep',10:'Oct',11:'Nov',12:'Dec'})\n",
    "\n",
    "bike_df.weekday = bike_df.weekday.map({0:'Sun',1:'Mon',2:'Tue',3:'Wed',4:'Thu',5:'Fri',6:'Sat'})\n",
    "\n",
    "bike_df.weathersit = bike_df.weathersit.map({1:'Clear-Few_Partly_cloudy',2:'Misty-Mist_Cloudy',3:'Light_Snow-Light_Rain',4:'Heavy_Rain-Snow_Fog'})\n"
   ]
  },
  {
   "cell_type": "code",
   "execution_count": 9,
   "id": "440f34a1",
   "metadata": {},
   "outputs": [
    {
     "data": {
      "text/html": [
       "<div>\n",
       "<style scoped>\n",
       "    .dataframe tbody tr th:only-of-type {\n",
       "        vertical-align: middle;\n",
       "    }\n",
       "\n",
       "    .dataframe tbody tr th {\n",
       "        vertical-align: top;\n",
       "    }\n",
       "\n",
       "    .dataframe thead th {\n",
       "        text-align: right;\n",
       "    }\n",
       "</style>\n",
       "<table border=\"1\" class=\"dataframe\">\n",
       "  <thead>\n",
       "    <tr style=\"text-align: right;\">\n",
       "      <th></th>\n",
       "      <th>instant</th>\n",
       "      <th>dteday</th>\n",
       "      <th>season</th>\n",
       "      <th>yr</th>\n",
       "      <th>mnth</th>\n",
       "      <th>holiday</th>\n",
       "      <th>weekday</th>\n",
       "      <th>workingday</th>\n",
       "      <th>weathersit</th>\n",
       "      <th>temp</th>\n",
       "      <th>atemp</th>\n",
       "      <th>hum</th>\n",
       "      <th>windspeed</th>\n",
       "      <th>casual</th>\n",
       "      <th>registered</th>\n",
       "      <th>cnt</th>\n",
       "    </tr>\n",
       "  </thead>\n",
       "  <tbody>\n",
       "    <tr>\n",
       "      <th>0</th>\n",
       "      <td>1</td>\n",
       "      <td>01-01-2018</td>\n",
       "      <td>Spring</td>\n",
       "      <td>0</td>\n",
       "      <td>Jan</td>\n",
       "      <td>0</td>\n",
       "      <td>Mon</td>\n",
       "      <td>1</td>\n",
       "      <td>Misty-Mist_Cloudy</td>\n",
       "      <td>14.110847</td>\n",
       "      <td>18.18125</td>\n",
       "      <td>80.5833</td>\n",
       "      <td>10.749882</td>\n",
       "      <td>331</td>\n",
       "      <td>654</td>\n",
       "      <td>985</td>\n",
       "    </tr>\n",
       "    <tr>\n",
       "      <th>1</th>\n",
       "      <td>2</td>\n",
       "      <td>02-01-2018</td>\n",
       "      <td>Spring</td>\n",
       "      <td>0</td>\n",
       "      <td>Jan</td>\n",
       "      <td>0</td>\n",
       "      <td>Tue</td>\n",
       "      <td>1</td>\n",
       "      <td>Misty-Mist_Cloudy</td>\n",
       "      <td>14.902598</td>\n",
       "      <td>17.68695</td>\n",
       "      <td>69.6087</td>\n",
       "      <td>16.652113</td>\n",
       "      <td>131</td>\n",
       "      <td>670</td>\n",
       "      <td>801</td>\n",
       "    </tr>\n",
       "    <tr>\n",
       "      <th>2</th>\n",
       "      <td>3</td>\n",
       "      <td>03-01-2018</td>\n",
       "      <td>Spring</td>\n",
       "      <td>0</td>\n",
       "      <td>Jan</td>\n",
       "      <td>0</td>\n",
       "      <td>Wed</td>\n",
       "      <td>1</td>\n",
       "      <td>Clear-Few_Partly_cloudy</td>\n",
       "      <td>8.050924</td>\n",
       "      <td>9.47025</td>\n",
       "      <td>43.7273</td>\n",
       "      <td>16.636703</td>\n",
       "      <td>120</td>\n",
       "      <td>1229</td>\n",
       "      <td>1349</td>\n",
       "    </tr>\n",
       "    <tr>\n",
       "      <th>3</th>\n",
       "      <td>4</td>\n",
       "      <td>04-01-2018</td>\n",
       "      <td>Spring</td>\n",
       "      <td>0</td>\n",
       "      <td>Jan</td>\n",
       "      <td>0</td>\n",
       "      <td>Thu</td>\n",
       "      <td>1</td>\n",
       "      <td>Clear-Few_Partly_cloudy</td>\n",
       "      <td>8.200000</td>\n",
       "      <td>10.60610</td>\n",
       "      <td>59.0435</td>\n",
       "      <td>10.739832</td>\n",
       "      <td>108</td>\n",
       "      <td>1454</td>\n",
       "      <td>1562</td>\n",
       "    </tr>\n",
       "    <tr>\n",
       "      <th>4</th>\n",
       "      <td>5</td>\n",
       "      <td>05-01-2018</td>\n",
       "      <td>Spring</td>\n",
       "      <td>0</td>\n",
       "      <td>Jan</td>\n",
       "      <td>0</td>\n",
       "      <td>Fri</td>\n",
       "      <td>1</td>\n",
       "      <td>Clear-Few_Partly_cloudy</td>\n",
       "      <td>9.305237</td>\n",
       "      <td>11.46350</td>\n",
       "      <td>43.6957</td>\n",
       "      <td>12.522300</td>\n",
       "      <td>82</td>\n",
       "      <td>1518</td>\n",
       "      <td>1600</td>\n",
       "    </tr>\n",
       "  </tbody>\n",
       "</table>\n",
       "</div>"
      ],
      "text/plain": [
       "   instant      dteday  season  yr mnth  holiday weekday  workingday  \\\n",
       "0        1  01-01-2018  Spring   0  Jan        0     Mon           1   \n",
       "1        2  02-01-2018  Spring   0  Jan        0     Tue           1   \n",
       "2        3  03-01-2018  Spring   0  Jan        0     Wed           1   \n",
       "3        4  04-01-2018  Spring   0  Jan        0     Thu           1   \n",
       "4        5  05-01-2018  Spring   0  Jan        0     Fri           1   \n",
       "\n",
       "                weathersit       temp     atemp      hum  windspeed  casual  \\\n",
       "0        Misty-Mist_Cloudy  14.110847  18.18125  80.5833  10.749882     331   \n",
       "1        Misty-Mist_Cloudy  14.902598  17.68695  69.6087  16.652113     131   \n",
       "2  Clear-Few_Partly_cloudy   8.050924   9.47025  43.7273  16.636703     120   \n",
       "3  Clear-Few_Partly_cloudy   8.200000  10.60610  59.0435  10.739832     108   \n",
       "4  Clear-Few_Partly_cloudy   9.305237  11.46350  43.6957  12.522300      82   \n",
       "\n",
       "   registered   cnt  \n",
       "0         654   985  \n",
       "1         670   801  \n",
       "2        1229  1349  \n",
       "3        1454  1562  \n",
       "4        1518  1600  "
      ]
     },
     "execution_count": 9,
     "metadata": {},
     "output_type": "execute_result"
    }
   ],
   "source": [
    "bike_df.head()"
   ]
  },
  {
   "cell_type": "code",
   "execution_count": 10,
   "id": "ec8d8325",
   "metadata": {},
   "outputs": [
    {
     "name": "stdout",
     "output_type": "stream",
     "text": [
      "<class 'pandas.core.frame.DataFrame'>\n",
      "RangeIndex: 730 entries, 0 to 729\n",
      "Data columns (total 16 columns):\n",
      " #   Column      Non-Null Count  Dtype  \n",
      "---  ------      --------------  -----  \n",
      " 0   instant     730 non-null    int64  \n",
      " 1   dteday      730 non-null    object \n",
      " 2   season      730 non-null    object \n",
      " 3   yr          730 non-null    int64  \n",
      " 4   mnth        730 non-null    object \n",
      " 5   holiday     730 non-null    int64  \n",
      " 6   weekday     730 non-null    object \n",
      " 7   workingday  730 non-null    int64  \n",
      " 8   weathersit  730 non-null    object \n",
      " 9   temp        730 non-null    float64\n",
      " 10  atemp       730 non-null    float64\n",
      " 11  hum         730 non-null    float64\n",
      " 12  windspeed   730 non-null    float64\n",
      " 13  casual      730 non-null    int64  \n",
      " 14  registered  730 non-null    int64  \n",
      " 15  cnt         730 non-null    int64  \n",
      "dtypes: float64(4), int64(7), object(5)\n",
      "memory usage: 91.4+ KB\n"
     ]
    }
   ],
   "source": [
    "#Checking datatype again\n",
    "\n",
    "bike_df.info()"
   ]
  },
  {
   "cell_type": "markdown",
   "id": "1b2f44de",
   "metadata": {},
   "source": [
    "### 1.3 Dropping unwanted extra columns"
   ]
  },
  {
   "cell_type": "code",
   "execution_count": 11,
   "id": "90ca0fa9",
   "metadata": {},
   "outputs": [
    {
     "data": {
      "text/html": [
       "<div>\n",
       "<style scoped>\n",
       "    .dataframe tbody tr th:only-of-type {\n",
       "        vertical-align: middle;\n",
       "    }\n",
       "\n",
       "    .dataframe tbody tr th {\n",
       "        vertical-align: top;\n",
       "    }\n",
       "\n",
       "    .dataframe thead th {\n",
       "        text-align: right;\n",
       "    }\n",
       "</style>\n",
       "<table border=\"1\" class=\"dataframe\">\n",
       "  <thead>\n",
       "    <tr style=\"text-align: right;\">\n",
       "      <th></th>\n",
       "      <th>instant</th>\n",
       "      <th>dteday</th>\n",
       "      <th>season</th>\n",
       "      <th>yr</th>\n",
       "      <th>mnth</th>\n",
       "      <th>holiday</th>\n",
       "      <th>weekday</th>\n",
       "      <th>workingday</th>\n",
       "      <th>weathersit</th>\n",
       "      <th>temp</th>\n",
       "      <th>atemp</th>\n",
       "      <th>hum</th>\n",
       "      <th>windspeed</th>\n",
       "      <th>casual</th>\n",
       "      <th>registered</th>\n",
       "      <th>cnt</th>\n",
       "    </tr>\n",
       "  </thead>\n",
       "  <tbody>\n",
       "    <tr>\n",
       "      <th>0</th>\n",
       "      <td>1</td>\n",
       "      <td>01-01-2018</td>\n",
       "      <td>Spring</td>\n",
       "      <td>0</td>\n",
       "      <td>Jan</td>\n",
       "      <td>0</td>\n",
       "      <td>Mon</td>\n",
       "      <td>1</td>\n",
       "      <td>Misty-Mist_Cloudy</td>\n",
       "      <td>14.110847</td>\n",
       "      <td>18.18125</td>\n",
       "      <td>80.5833</td>\n",
       "      <td>10.749882</td>\n",
       "      <td>331</td>\n",
       "      <td>654</td>\n",
       "      <td>985</td>\n",
       "    </tr>\n",
       "    <tr>\n",
       "      <th>1</th>\n",
       "      <td>2</td>\n",
       "      <td>02-01-2018</td>\n",
       "      <td>Spring</td>\n",
       "      <td>0</td>\n",
       "      <td>Jan</td>\n",
       "      <td>0</td>\n",
       "      <td>Tue</td>\n",
       "      <td>1</td>\n",
       "      <td>Misty-Mist_Cloudy</td>\n",
       "      <td>14.902598</td>\n",
       "      <td>17.68695</td>\n",
       "      <td>69.6087</td>\n",
       "      <td>16.652113</td>\n",
       "      <td>131</td>\n",
       "      <td>670</td>\n",
       "      <td>801</td>\n",
       "    </tr>\n",
       "    <tr>\n",
       "      <th>2</th>\n",
       "      <td>3</td>\n",
       "      <td>03-01-2018</td>\n",
       "      <td>Spring</td>\n",
       "      <td>0</td>\n",
       "      <td>Jan</td>\n",
       "      <td>0</td>\n",
       "      <td>Wed</td>\n",
       "      <td>1</td>\n",
       "      <td>Clear-Few_Partly_cloudy</td>\n",
       "      <td>8.050924</td>\n",
       "      <td>9.47025</td>\n",
       "      <td>43.7273</td>\n",
       "      <td>16.636703</td>\n",
       "      <td>120</td>\n",
       "      <td>1229</td>\n",
       "      <td>1349</td>\n",
       "    </tr>\n",
       "    <tr>\n",
       "      <th>3</th>\n",
       "      <td>4</td>\n",
       "      <td>04-01-2018</td>\n",
       "      <td>Spring</td>\n",
       "      <td>0</td>\n",
       "      <td>Jan</td>\n",
       "      <td>0</td>\n",
       "      <td>Thu</td>\n",
       "      <td>1</td>\n",
       "      <td>Clear-Few_Partly_cloudy</td>\n",
       "      <td>8.200000</td>\n",
       "      <td>10.60610</td>\n",
       "      <td>59.0435</td>\n",
       "      <td>10.739832</td>\n",
       "      <td>108</td>\n",
       "      <td>1454</td>\n",
       "      <td>1562</td>\n",
       "    </tr>\n",
       "    <tr>\n",
       "      <th>4</th>\n",
       "      <td>5</td>\n",
       "      <td>05-01-2018</td>\n",
       "      <td>Spring</td>\n",
       "      <td>0</td>\n",
       "      <td>Jan</td>\n",
       "      <td>0</td>\n",
       "      <td>Fri</td>\n",
       "      <td>1</td>\n",
       "      <td>Clear-Few_Partly_cloudy</td>\n",
       "      <td>9.305237</td>\n",
       "      <td>11.46350</td>\n",
       "      <td>43.6957</td>\n",
       "      <td>12.522300</td>\n",
       "      <td>82</td>\n",
       "      <td>1518</td>\n",
       "      <td>1600</td>\n",
       "    </tr>\n",
       "  </tbody>\n",
       "</table>\n",
       "</div>"
      ],
      "text/plain": [
       "   instant      dteday  season  yr mnth  holiday weekday  workingday  \\\n",
       "0        1  01-01-2018  Spring   0  Jan        0     Mon           1   \n",
       "1        2  02-01-2018  Spring   0  Jan        0     Tue           1   \n",
       "2        3  03-01-2018  Spring   0  Jan        0     Wed           1   \n",
       "3        4  04-01-2018  Spring   0  Jan        0     Thu           1   \n",
       "4        5  05-01-2018  Spring   0  Jan        0     Fri           1   \n",
       "\n",
       "                weathersit       temp     atemp      hum  windspeed  casual  \\\n",
       "0        Misty-Mist_Cloudy  14.110847  18.18125  80.5833  10.749882     331   \n",
       "1        Misty-Mist_Cloudy  14.902598  17.68695  69.6087  16.652113     131   \n",
       "2  Clear-Few_Partly_cloudy   8.050924   9.47025  43.7273  16.636703     120   \n",
       "3  Clear-Few_Partly_cloudy   8.200000  10.60610  59.0435  10.739832     108   \n",
       "4  Clear-Few_Partly_cloudy   9.305237  11.46350  43.6957  12.522300      82   \n",
       "\n",
       "   registered   cnt  \n",
       "0         654   985  \n",
       "1         670   801  \n",
       "2        1229  1349  \n",
       "3        1454  1562  \n",
       "4        1518  1600  "
      ]
     },
     "execution_count": 11,
     "metadata": {},
     "output_type": "execute_result"
    }
   ],
   "source": [
    "#Scanning all columns\n",
    "\n",
    "bike_df.head()"
   ]
  },
  {
   "cell_type": "markdown",
   "id": "2a45d18f",
   "metadata": {},
   "source": [
    "### Insights \n",
    "   1. We can see 'instant' column is only having row number(index value) which is not useful for our regression.\n",
    "   2. Another column 'dteday' is having data information but we also have year , month and day information available in separate columns . So we can drop this column.\n",
    "   3. We have 'casual' , 'registered' and 'cnt' columns which are having information of users . Only difference is user type b.w 'casual' and 'registered'. And addition of both user data we have in 'cnt' . So we can drop these two columns( 'casual','registered')"
   ]
  },
  {
   "cell_type": "code",
   "execution_count": 12,
   "id": "45d807e4",
   "metadata": {},
   "outputs": [],
   "source": [
    "# Dropping columns \n",
    "\n",
    "bike_df.drop(columns=['instant','dteday','casual','registered'],inplace=True)"
   ]
  },
  {
   "cell_type": "code",
   "execution_count": 13,
   "id": "93b423fb",
   "metadata": {},
   "outputs": [
    {
     "data": {
      "text/html": [
       "<div>\n",
       "<style scoped>\n",
       "    .dataframe tbody tr th:only-of-type {\n",
       "        vertical-align: middle;\n",
       "    }\n",
       "\n",
       "    .dataframe tbody tr th {\n",
       "        vertical-align: top;\n",
       "    }\n",
       "\n",
       "    .dataframe thead th {\n",
       "        text-align: right;\n",
       "    }\n",
       "</style>\n",
       "<table border=\"1\" class=\"dataframe\">\n",
       "  <thead>\n",
       "    <tr style=\"text-align: right;\">\n",
       "      <th></th>\n",
       "      <th>season</th>\n",
       "      <th>yr</th>\n",
       "      <th>mnth</th>\n",
       "      <th>holiday</th>\n",
       "      <th>weekday</th>\n",
       "      <th>workingday</th>\n",
       "      <th>weathersit</th>\n",
       "      <th>temp</th>\n",
       "      <th>atemp</th>\n",
       "      <th>hum</th>\n",
       "      <th>windspeed</th>\n",
       "      <th>cnt</th>\n",
       "    </tr>\n",
       "  </thead>\n",
       "  <tbody>\n",
       "    <tr>\n",
       "      <th>0</th>\n",
       "      <td>Spring</td>\n",
       "      <td>0</td>\n",
       "      <td>Jan</td>\n",
       "      <td>0</td>\n",
       "      <td>Mon</td>\n",
       "      <td>1</td>\n",
       "      <td>Misty-Mist_Cloudy</td>\n",
       "      <td>14.110847</td>\n",
       "      <td>18.18125</td>\n",
       "      <td>80.5833</td>\n",
       "      <td>10.749882</td>\n",
       "      <td>985</td>\n",
       "    </tr>\n",
       "    <tr>\n",
       "      <th>1</th>\n",
       "      <td>Spring</td>\n",
       "      <td>0</td>\n",
       "      <td>Jan</td>\n",
       "      <td>0</td>\n",
       "      <td>Tue</td>\n",
       "      <td>1</td>\n",
       "      <td>Misty-Mist_Cloudy</td>\n",
       "      <td>14.902598</td>\n",
       "      <td>17.68695</td>\n",
       "      <td>69.6087</td>\n",
       "      <td>16.652113</td>\n",
       "      <td>801</td>\n",
       "    </tr>\n",
       "    <tr>\n",
       "      <th>2</th>\n",
       "      <td>Spring</td>\n",
       "      <td>0</td>\n",
       "      <td>Jan</td>\n",
       "      <td>0</td>\n",
       "      <td>Wed</td>\n",
       "      <td>1</td>\n",
       "      <td>Clear-Few_Partly_cloudy</td>\n",
       "      <td>8.050924</td>\n",
       "      <td>9.47025</td>\n",
       "      <td>43.7273</td>\n",
       "      <td>16.636703</td>\n",
       "      <td>1349</td>\n",
       "    </tr>\n",
       "    <tr>\n",
       "      <th>3</th>\n",
       "      <td>Spring</td>\n",
       "      <td>0</td>\n",
       "      <td>Jan</td>\n",
       "      <td>0</td>\n",
       "      <td>Thu</td>\n",
       "      <td>1</td>\n",
       "      <td>Clear-Few_Partly_cloudy</td>\n",
       "      <td>8.200000</td>\n",
       "      <td>10.60610</td>\n",
       "      <td>59.0435</td>\n",
       "      <td>10.739832</td>\n",
       "      <td>1562</td>\n",
       "    </tr>\n",
       "    <tr>\n",
       "      <th>4</th>\n",
       "      <td>Spring</td>\n",
       "      <td>0</td>\n",
       "      <td>Jan</td>\n",
       "      <td>0</td>\n",
       "      <td>Fri</td>\n",
       "      <td>1</td>\n",
       "      <td>Clear-Few_Partly_cloudy</td>\n",
       "      <td>9.305237</td>\n",
       "      <td>11.46350</td>\n",
       "      <td>43.6957</td>\n",
       "      <td>12.522300</td>\n",
       "      <td>1600</td>\n",
       "    </tr>\n",
       "  </tbody>\n",
       "</table>\n",
       "</div>"
      ],
      "text/plain": [
       "   season  yr mnth  holiday weekday  workingday               weathersit  \\\n",
       "0  Spring   0  Jan        0     Mon           1        Misty-Mist_Cloudy   \n",
       "1  Spring   0  Jan        0     Tue           1        Misty-Mist_Cloudy   \n",
       "2  Spring   0  Jan        0     Wed           1  Clear-Few_Partly_cloudy   \n",
       "3  Spring   0  Jan        0     Thu           1  Clear-Few_Partly_cloudy   \n",
       "4  Spring   0  Jan        0     Fri           1  Clear-Few_Partly_cloudy   \n",
       "\n",
       "        temp     atemp      hum  windspeed   cnt  \n",
       "0  14.110847  18.18125  80.5833  10.749882   985  \n",
       "1  14.902598  17.68695  69.6087  16.652113   801  \n",
       "2   8.050924   9.47025  43.7273  16.636703  1349  \n",
       "3   8.200000  10.60610  59.0435  10.739832  1562  \n",
       "4   9.305237  11.46350  43.6957  12.522300  1600  "
      ]
     },
     "execution_count": 13,
     "metadata": {},
     "output_type": "execute_result"
    }
   ],
   "source": [
    "# Checking data again\n",
    "\n",
    "bike_df.head()"
   ]
  },
  {
   "cell_type": "markdown",
   "id": "d9fbd02d",
   "metadata": {},
   "source": [
    "## 2. Data Visualization"
   ]
  },
  {
   "cell_type": "markdown",
   "id": "e91b833c",
   "metadata": {},
   "source": [
    "### 2.1 Visualizing numerical columns"
   ]
  },
  {
   "cell_type": "code",
   "execution_count": 14,
   "id": "a762e5ed",
   "metadata": {},
   "outputs": [
    {
     "name": "stdout",
     "output_type": "stream",
     "text": [
      "<class 'pandas.core.frame.DataFrame'>\n",
      "RangeIndex: 730 entries, 0 to 729\n",
      "Data columns (total 12 columns):\n",
      " #   Column      Non-Null Count  Dtype  \n",
      "---  ------      --------------  -----  \n",
      " 0   season      730 non-null    object \n",
      " 1   yr          730 non-null    int64  \n",
      " 2   mnth        730 non-null    object \n",
      " 3   holiday     730 non-null    int64  \n",
      " 4   weekday     730 non-null    object \n",
      " 5   workingday  730 non-null    int64  \n",
      " 6   weathersit  730 non-null    object \n",
      " 7   temp        730 non-null    float64\n",
      " 8   atemp       730 non-null    float64\n",
      " 9   hum         730 non-null    float64\n",
      " 10  windspeed   730 non-null    float64\n",
      " 11  cnt         730 non-null    int64  \n",
      "dtypes: float64(4), int64(4), object(4)\n",
      "memory usage: 68.6+ KB\n"
     ]
    }
   ],
   "source": [
    "#Scanning Numerical columns in dataframe\n",
    "\n",
    "bike_df.info()"
   ]
  },
  {
   "cell_type": "code",
   "execution_count": 15,
   "id": "06db207c",
   "metadata": {},
   "outputs": [
    {
     "data": {
      "image/png": "[encoded data removed]",
      "text/plain": [
       "<Figure size 900x900 with 30 Axes>"
      ]
     },
     "metadata": {
      "needs_background": "light"
     },
     "output_type": "display_data"
    }
   ],
   "source": [
    "# Using Pairplot to visualize relation b/w numerical columns\n",
    "\n",
    "sns.pairplot(data=bike_df,vars=['temp','atemp','hum','windspeed','cnt'])\n",
    "plt.show()"
   ]
  },
  {
   "cell_type": "code",
   "execution_count": 16,
   "id": "2e4b8f39",
   "metadata": {},
   "outputs": [
    {
     "data": {
      "image/png": "[encoded data removed]",
      "text/plain": [
       "<Figure size 432x288 with 2 Axes>"
      ]
     },
     "metadata": {
      "needs_background": "light"
     },
     "output_type": "display_data"
    }
   ],
   "source": [
    "# Lets use correlation matrix for numerical columns\n",
    "plt.title(\"Correlation Matrix\",fontsize='15')\n",
    "sns.heatmap(bike_df[['temp','atemp','hum','windspeed','cnt']].corr(), cmap='BuGn',annot=True)\n",
    "plt.show()"
   ]
  },
  {
   "cell_type": "markdown",
   "id": "6ba70a3c",
   "metadata": {},
   "source": [
    "### Insights\n",
    " - We can see linear relationship among columns temp , atemp and cnt."
   ]
  },
  {
   "cell_type": "markdown",
   "id": "8e6fa161",
   "metadata": {},
   "source": [
    "### 2.2 Visualizing categorical columns"
   ]
  },
  {
   "cell_type": "code",
   "execution_count": 17,
   "id": "df83d1a2",
   "metadata": {},
   "outputs": [
    {
     "name": "stdout",
     "output_type": "stream",
     "text": [
      "<class 'pandas.core.frame.DataFrame'>\n",
      "RangeIndex: 730 entries, 0 to 729\n",
      "Data columns (total 12 columns):\n",
      " #   Column      Non-Null Count  Dtype  \n",
      "---  ------      --------------  -----  \n",
      " 0   season      730 non-null    object \n",
      " 1   yr          730 non-null    int64  \n",
      " 2   mnth        730 non-null    object \n",
      " 3   holiday     730 non-null    int64  \n",
      " 4   weekday     730 non-null    object \n",
      " 5   workingday  730 non-null    int64  \n",
      " 6   weathersit  730 non-null    object \n",
      " 7   temp        730 non-null    float64\n",
      " 8   atemp       730 non-null    float64\n",
      " 9   hum         730 non-null    float64\n",
      " 10  windspeed   730 non-null    float64\n",
      " 11  cnt         730 non-null    int64  \n",
      "dtypes: float64(4), int64(4), object(4)\n",
      "memory usage: 68.6+ KB\n"
     ]
    }
   ],
   "source": [
    "bike_df.info()"
   ]
  },
  {
   "cell_type": "code",
   "execution_count": 18,
   "id": "3713b098",
   "metadata": {},
   "outputs": [
    {
     "data": {
      "image/png": "[encoded data removed]",
      "text/plain": [
       "<Figure size 1080x1440 with 6 Axes>"
      ]
     },
     "metadata": {
      "needs_background": "light"
     },
     "output_type": "display_data"
    }
   ],
   "source": [
    "# Using boxplot for visualizing categorical columns\n",
    "\n",
    "plt.figure(figsize=(15, 20))\n",
    "\n",
    "plt.subplot(3,2,1)\n",
    "sns.boxplot(x='season',y='cnt',data=bike_df)\n",
    "plt.xlabel('Season', fontsize=20)\n",
    "plt.subplot(3,2,2)\n",
    "sns.boxplot(x='mnth',y='cnt',data=bike_df)\n",
    "plt.xlabel('Mnth', fontsize=20)\n",
    "plt.subplot(3,2,3)\n",
    "sns.boxplot(x='holiday',y='cnt',data=bike_df)\n",
    "plt.xlabel('Holiday', fontsize=20)\n",
    "plt.subplot(3,2,4)\n",
    "sns.boxplot(x='weekday',y='cnt',data=bike_df)\n",
    "plt.xlabel('Weekday', fontsize=20)\n",
    "plt.subplot(3,2,5)\n",
    "sns.boxplot(x='weathersit',y='cnt',data=bike_df)\n",
    "plt.xlabel('Weathersit', fontsize=20)\n",
    "plt.subplot(3,2,6)\n",
    "sns.boxplot(x='workingday',y='cnt',data=bike_df)\n",
    "plt.xlabel('Workingday', fontsize=20)\n",
    "plt.show()"
   ]
  },
  {
   "cell_type": "markdown",
   "id": "bd428bad",
   "metadata": {},
   "source": [
    "### Insights :\n",
    "\n",
    "1. We can see most of bike booking happened in 'Fall' followed by 'Summer' and 'Winter' . So we can see season can be good candidate as predictor variable.\n",
    "\n",
    "2. We can see most of bike booking happened in months may , june , july , august and september. So we can also use mnth as potential predictor.\n",
    "\n",
    "3. There is also good impact of holiday column . Most of booking happened when there was not holiday as compare to opposite.\n",
    "\n",
    "4. For weathersit , we can see when 'Clear-Few_Partly_cloudy' are having better performance as compare to other. \n",
    "\n",
    "5. For other left columns, We are not getting clear idea much. "
   ]
  },
  {
   "cell_type": "markdown",
   "id": "e2224942",
   "metadata": {},
   "source": [
    "## 3. Data Preparation"
   ]
  },
  {
   "cell_type": "markdown",
   "id": "33b72795",
   "metadata": {},
   "source": [
    "### 3.1 Handling categorical columns for linear regression"
   ]
  },
  {
   "cell_type": "code",
   "execution_count": 19,
   "id": "13c2708b",
   "metadata": {},
   "outputs": [],
   "source": [
    "### creating dummy variables for season , mnth ,weathersit ,weekday\n",
    "\n",
    "dummy_df=pd.get_dummies(bike_df[['season','mnth','weekday','weathersit']],drop_first=True )"
   ]
  },
  {
   "cell_type": "code",
   "execution_count": 20,
   "id": "70737e52",
   "metadata": {},
   "outputs": [],
   "source": [
    "## adding dummy variables to original dataset\n",
    "\n",
    "bike_df = pd.concat([dummy_df,bike_df],axis = 1)"
   ]
  },
  {
   "cell_type": "code",
   "execution_count": 21,
   "id": "b98600a3",
   "metadata": {},
   "outputs": [
    {
     "name": "stdout",
     "output_type": "stream",
     "text": [
      "<class 'pandas.core.frame.DataFrame'>\n",
      "RangeIndex: 730 entries, 0 to 729\n",
      "Data columns (total 34 columns):\n",
      " #   Column                            Non-Null Count  Dtype  \n",
      "---  ------                            --------------  -----  \n",
      " 0   season_Spring                     730 non-null    uint8  \n",
      " 1   season_Summer                     730 non-null    uint8  \n",
      " 2   season_Winter                     730 non-null    uint8  \n",
      " 3   mnth_Aug                          730 non-null    uint8  \n",
      " 4   mnth_Dec                          730 non-null    uint8  \n",
      " 5   mnth_Feb                          730 non-null    uint8  \n",
      " 6   mnth_Jan                          730 non-null    uint8  \n",
      " 7   mnth_Jul                          730 non-null    uint8  \n",
      " 8   mnth_Jun                          730 non-null    uint8  \n",
      " 9   mnth_Mar                          730 non-null    uint8  \n",
      " 10  mnth_May                          730 non-null    uint8  \n",
      " 11  mnth_Nov                          730 non-null    uint8  \n",
      " 12  mnth_Oct                          730 non-null    uint8  \n",
      " 13  mnth_Sep                          730 non-null    uint8  \n",
      " 14  weekday_Mon                       730 non-null    uint8  \n",
      " 15  weekday_Sat                       730 non-null    uint8  \n",
      " 16  weekday_Sun                       730 non-null    uint8  \n",
      " 17  weekday_Thu                       730 non-null    uint8  \n",
      " 18  weekday_Tue                       730 non-null    uint8  \n",
      " 19  weekday_Wed                       730 non-null    uint8  \n",
      " 20  weathersit_Light_Snow-Light_Rain  730 non-null    uint8  \n",
      " 21  weathersit_Misty-Mist_Cloudy      730 non-null    uint8  \n",
      " 22  season                            730 non-null    object \n",
      " 23  yr                                730 non-null    int64  \n",
      " 24  mnth                              730 non-null    object \n",
      " 25  holiday                           730 non-null    int64  \n",
      " 26  weekday                           730 non-null    object \n",
      " 27  workingday                        730 non-null    int64  \n",
      " 28  weathersit                        730 non-null    object \n",
      " 29  temp                              730 non-null    float64\n",
      " 30  atemp                             730 non-null    float64\n",
      " 31  hum                               730 non-null    float64\n",
      " 32  windspeed                         730 non-null    float64\n",
      " 33  cnt                               730 non-null    int64  \n",
      "dtypes: float64(4), int64(4), object(4), uint8(22)\n",
      "memory usage: 84.2+ KB\n"
     ]
    }
   ],
   "source": [
    "bike_df.info()"
   ]
  },
  {
   "cell_type": "code",
   "execution_count": 22,
   "id": "2c037d71",
   "metadata": {},
   "outputs": [],
   "source": [
    "## Dropping original columns\n",
    "\n",
    "bike_df.drop(columns=['season','mnth','weekday','weathersit'],inplace=True)"
   ]
  },
  {
   "cell_type": "code",
   "execution_count": 23,
   "id": "80c12bf2",
   "metadata": {},
   "outputs": [
    {
     "name": "stdout",
     "output_type": "stream",
     "text": [
      "<class 'pandas.core.frame.DataFrame'>\n",
      "RangeIndex: 730 entries, 0 to 729\n",
      "Data columns (total 30 columns):\n",
      " #   Column                            Non-Null Count  Dtype  \n",
      "---  ------                            --------------  -----  \n",
      " 0   season_Spring                     730 non-null    uint8  \n",
      " 1   season_Summer                     730 non-null    uint8  \n",
      " 2   season_Winter                     730 non-null    uint8  \n",
      " 3   mnth_Aug                          730 non-null    uint8  \n",
      " 4   mnth_Dec                          730 non-null    uint8  \n",
      " 5   mnth_Feb                          730 non-null    uint8  \n",
      " 6   mnth_Jan                          730 non-null    uint8  \n",
      " 7   mnth_Jul                          730 non-null    uint8  \n",
      " 8   mnth_Jun                          730 non-null    uint8  \n",
      " 9   mnth_Mar                          730 non-null    uint8  \n",
      " 10  mnth_May                          730 non-null    uint8  \n",
      " 11  mnth_Nov                          730 non-null    uint8  \n",
      " 12  mnth_Oct                          730 non-null    uint8  \n",
      " 13  mnth_Sep                          730 non-null    uint8  \n",
      " 14  weekday_Mon                       730 non-null    uint8  \n",
      " 15  weekday_Sat                       730 non-null    uint8  \n",
      " 16  weekday_Sun                       730 non-null    uint8  \n",
      " 17  weekday_Thu                       730 non-null    uint8  \n",
      " 18  weekday_Tue                       730 non-null    uint8  \n",
      " 19  weekday_Wed                       730 non-null    uint8  \n",
      " 20  weathersit_Light_Snow-Light_Rain  730 non-null    uint8  \n",
      " 21  weathersit_Misty-Mist_Cloudy      730 non-null    uint8  \n",
      " 22  yr                                730 non-null    int64  \n",
      " 23  holiday                           730 non-null    int64  \n",
      " 24  workingday                        730 non-null    int64  \n",
      " 25  temp                              730 non-null    float64\n",
      " 26  atemp                             730 non-null    float64\n",
      " 27  hum                               730 non-null    float64\n",
      " 28  windspeed                         730 non-null    float64\n",
      " 29  cnt                               730 non-null    int64  \n",
      "dtypes: float64(4), int64(4), uint8(22)\n",
      "memory usage: 61.4 KB\n"
     ]
    }
   ],
   "source": [
    "bike_df.info()"
   ]
  },
  {
   "cell_type": "code",
   "execution_count": 24,
   "id": "a9fca791",
   "metadata": {},
   "outputs": [
    {
     "data": {
      "text/html": [
       "<div>\n",
       "<style scoped>\n",
       "    .dataframe tbody tr th:only-of-type {\n",
       "        vertical-align: middle;\n",
       "    }\n",
       "\n",
       "    .dataframe tbody tr th {\n",
       "        vertical-align: top;\n",
       "    }\n",
       "\n",
       "    .dataframe thead th {\n",
       "        text-align: right;\n",
       "    }\n",
       "</style>\n",
       "<table border=\"1\" class=\"dataframe\">\n",
       "  <thead>\n",
       "    <tr style=\"text-align: right;\">\n",
       "      <th></th>\n",
       "      <th>season_Spring</th>\n",
       "      <th>season_Summer</th>\n",
       "      <th>season_Winter</th>\n",
       "      <th>mnth_Aug</th>\n",
       "      <th>mnth_Dec</th>\n",
       "      <th>mnth_Feb</th>\n",
       "      <th>mnth_Jan</th>\n",
       "      <th>mnth_Jul</th>\n",
       "      <th>mnth_Jun</th>\n",
       "      <th>mnth_Mar</th>\n",
       "      <th>...</th>\n",
       "      <th>weathersit_Light_Snow-Light_Rain</th>\n",
       "      <th>weathersit_Misty-Mist_Cloudy</th>\n",
       "      <th>yr</th>\n",
       "      <th>holiday</th>\n",
       "      <th>workingday</th>\n",
       "      <th>temp</th>\n",
       "      <th>atemp</th>\n",
       "      <th>hum</th>\n",
       "      <th>windspeed</th>\n",
       "      <th>cnt</th>\n",
       "    </tr>\n",
       "  </thead>\n",
       "  <tbody>\n",
       "    <tr>\n",
       "      <th>0</th>\n",
       "      <td>1</td>\n",
       "      <td>0</td>\n",
       "      <td>0</td>\n",
       "      <td>0</td>\n",
       "      <td>0</td>\n",
       "      <td>0</td>\n",
       "      <td>1</td>\n",
       "      <td>0</td>\n",
       "      <td>0</td>\n",
       "      <td>0</td>\n",
       "      <td>...</td>\n",
       "      <td>0</td>\n",
       "      <td>1</td>\n",
       "      <td>0</td>\n",
       "      <td>0</td>\n",
       "      <td>1</td>\n",
       "      <td>14.110847</td>\n",
       "      <td>18.18125</td>\n",
       "      <td>80.5833</td>\n",
       "      <td>10.749882</td>\n",
       "      <td>985</td>\n",
       "    </tr>\n",
       "    <tr>\n",
       "      <th>1</th>\n",
       "      <td>1</td>\n",
       "      <td>0</td>\n",
       "      <td>0</td>\n",
       "      <td>0</td>\n",
       "      <td>0</td>\n",
       "      <td>0</td>\n",
       "      <td>1</td>\n",
       "      <td>0</td>\n",
       "      <td>0</td>\n",
       "      <td>0</td>\n",
       "      <td>...</td>\n",
       "      <td>0</td>\n",
       "      <td>1</td>\n",
       "      <td>0</td>\n",
       "      <td>0</td>\n",
       "      <td>1</td>\n",
       "      <td>14.902598</td>\n",
       "      <td>17.68695</td>\n",
       "      <td>69.6087</td>\n",
       "      <td>16.652113</td>\n",
       "      <td>801</td>\n",
       "    </tr>\n",
       "    <tr>\n",
       "      <th>2</th>\n",
       "      <td>1</td>\n",
       "      <td>0</td>\n",
       "      <td>0</td>\n",
       "      <td>0</td>\n",
       "      <td>0</td>\n",
       "      <td>0</td>\n",
       "      <td>1</td>\n",
       "      <td>0</td>\n",
       "      <td>0</td>\n",
       "      <td>0</td>\n",
       "      <td>...</td>\n",
       "      <td>0</td>\n",
       "      <td>0</td>\n",
       "      <td>0</td>\n",
       "      <td>0</td>\n",
       "      <td>1</td>\n",
       "      <td>8.050924</td>\n",
       "      <td>9.47025</td>\n",
       "      <td>43.7273</td>\n",
       "      <td>16.636703</td>\n",
       "      <td>1349</td>\n",
       "    </tr>\n",
       "    <tr>\n",
       "      <th>3</th>\n",
       "      <td>1</td>\n",
       "      <td>0</td>\n",
       "      <td>0</td>\n",
       "      <td>0</td>\n",
       "      <td>0</td>\n",
       "      <td>0</td>\n",
       "      <td>1</td>\n",
       "      <td>0</td>\n",
       "      <td>0</td>\n",
       "      <td>0</td>\n",
       "      <td>...</td>\n",
       "      <td>0</td>\n",
       "      <td>0</td>\n",
       "      <td>0</td>\n",
       "      <td>0</td>\n",
       "      <td>1</td>\n",
       "      <td>8.200000</td>\n",
       "      <td>10.60610</td>\n",
       "      <td>59.0435</td>\n",
       "      <td>10.739832</td>\n",
       "      <td>1562</td>\n",
       "    </tr>\n",
       "    <tr>\n",
       "      <th>4</th>\n",
       "      <td>1</td>\n",
       "      <td>0</td>\n",
       "      <td>0</td>\n",
       "      <td>0</td>\n",
       "      <td>0</td>\n",
       "      <td>0</td>\n",
       "      <td>1</td>\n",
       "      <td>0</td>\n",
       "      <td>0</td>\n",
       "      <td>0</td>\n",
       "      <td>...</td>\n",
       "      <td>0</td>\n",
       "      <td>0</td>\n",
       "      <td>0</td>\n",
       "      <td>0</td>\n",
       "      <td>1</td>\n",
       "      <td>9.305237</td>\n",
       "      <td>11.46350</td>\n",
       "      <td>43.6957</td>\n",
       "      <td>12.522300</td>\n",
       "      <td>1600</td>\n",
       "    </tr>\n",
       "  </tbody>\n",
       "</table>\n",
       "<p>5 rows × 30 columns</p>\n",
       "</div>"
      ],
      "text/plain": [
       "   season_Spring  season_Summer  season_Winter  mnth_Aug  mnth_Dec  mnth_Feb  \\\n",
       "0              1              0              0         0         0         0   \n",
       "1              1              0              0         0         0         0   \n",
       "2              1              0              0         0         0         0   \n",
       "3              1              0              0         0         0         0   \n",
       "4              1              0              0         0         0         0   \n",
       "\n",
       "   mnth_Jan  mnth_Jul  mnth_Jun  mnth_Mar  ...  \\\n",
       "0         1         0         0         0  ...   \n",
       "1         1         0         0         0  ...   \n",
       "2         1         0         0         0  ...   \n",
       "3         1         0         0         0  ...   \n",
       "4         1         0         0         0  ...   \n",
       "\n",
       "   weathersit_Light_Snow-Light_Rain  weathersit_Misty-Mist_Cloudy  yr  \\\n",
       "0                                 0                             1   0   \n",
       "1                                 0                             1   0   \n",
       "2                                 0                             0   0   \n",
       "3                                 0                             0   0   \n",
       "4                                 0                             0   0   \n",
       "\n",
       "   holiday  workingday       temp     atemp      hum  windspeed   cnt  \n",
       "0        0           1  14.110847  18.18125  80.5833  10.749882   985  \n",
       "1        0           1  14.902598  17.68695  69.6087  16.652113   801  \n",
       "2        0           1   8.050924   9.47025  43.7273  16.636703  1349  \n",
       "3        0           1   8.200000  10.60610  59.0435  10.739832  1562  \n",
       "4        0           1   9.305237  11.46350  43.6957  12.522300  1600  \n",
       "\n",
       "[5 rows x 30 columns]"
      ]
     },
     "execution_count": 24,
     "metadata": {},
     "output_type": "execute_result"
    }
   ],
   "source": [
    "bike_df.head()"
   ]
  },
  {
   "cell_type": "markdown",
   "id": "b11f895d",
   "metadata": {},
   "source": [
    "### Insights\n",
    "- We are now left with 30 columns after handling categorical columns ."
   ]
  },
  {
   "cell_type": "markdown",
   "id": "3c1fae57",
   "metadata": {},
   "source": [
    "### 3.2 Splitting data into 'Training' and 'Test'"
   ]
  },
  {
   "cell_type": "code",
   "execution_count": 25,
   "id": "9b8bd682",
   "metadata": {},
   "outputs": [],
   "source": [
    "#Importing library for splitting data randomly \n",
    "\n",
    "from sklearn.model_selection import train_test_split\n",
    "\n",
    "# We have specified 70% data for training set anf 30% data for test set. Also defined random state to 100 .\n",
    "\n",
    "bike_train, bike_test = train_test_split(bike_df,train_size = 0.7,test_size = 0.3,random_state = 100)"
   ]
  },
  {
   "cell_type": "code",
   "execution_count": 26,
   "id": "2423d0ec",
   "metadata": {},
   "outputs": [
    {
     "data": {
      "text/plain": [
       "(510, 30)"
      ]
     },
     "execution_count": 26,
     "metadata": {},
     "output_type": "execute_result"
    }
   ],
   "source": [
    "bike_train.shape"
   ]
  },
  {
   "cell_type": "code",
   "execution_count": 27,
   "id": "cd4287f1",
   "metadata": {},
   "outputs": [
    {
     "data": {
      "text/plain": [
       "(219, 30)"
      ]
     },
     "execution_count": 27,
     "metadata": {},
     "output_type": "execute_result"
    }
   ],
   "source": [
    "bike_test.shape"
   ]
  },
  {
   "cell_type": "markdown",
   "id": "e94b6c35",
   "metadata": {},
   "source": [
    "### 3.3 Rescaling numerical columns in training data"
   ]
  },
  {
   "cell_type": "code",
   "execution_count": 28,
   "id": "93c7e696",
   "metadata": {},
   "outputs": [],
   "source": [
    "#importing library from scikit learn for rescaling numerical columns using Min - Max method\n",
    "\n",
    "from sklearn.preprocessing import MinMaxScaler"
   ]
  },
  {
   "cell_type": "code",
   "execution_count": 29,
   "id": "7bd7c132",
   "metadata": {},
   "outputs": [],
   "source": [
    "#Creating an abject first\n",
    "\n",
    "scaler= MinMaxScaler()"
   ]
  },
  {
   "cell_type": "code",
   "execution_count": 30,
   "id": "0143fdfd",
   "metadata": {},
   "outputs": [],
   "source": [
    "num_col=['temp', 'atemp', 'hum', 'windspeed','cnt']\n",
    "\n",
    "bike_train[num_col] = scaler.fit_transform(bike_train[num_col])"
   ]
  },
  {
   "cell_type": "code",
   "execution_count": 31,
   "id": "9e74214c",
   "metadata": {},
   "outputs": [
    {
     "data": {
      "text/html": [
       "<div>\n",
       "<style scoped>\n",
       "    .dataframe tbody tr th:only-of-type {\n",
       "        vertical-align: middle;\n",
       "    }\n",
       "\n",
       "    .dataframe tbody tr th {\n",
       "        vertical-align: top;\n",
       "    }\n",
       "\n",
       "    .dataframe thead th {\n",
       "        text-align: right;\n",
       "    }\n",
       "</style>\n",
       "<table border=\"1\" class=\"dataframe\">\n",
       "  <thead>\n",
       "    <tr style=\"text-align: right;\">\n",
       "      <th></th>\n",
       "      <th>season_Spring</th>\n",
       "      <th>season_Summer</th>\n",
       "      <th>season_Winter</th>\n",
       "      <th>mnth_Aug</th>\n",
       "      <th>mnth_Dec</th>\n",
       "      <th>mnth_Feb</th>\n",
       "      <th>mnth_Jan</th>\n",
       "      <th>mnth_Jul</th>\n",
       "      <th>mnth_Jun</th>\n",
       "      <th>mnth_Mar</th>\n",
       "      <th>...</th>\n",
       "      <th>weathersit_Light_Snow-Light_Rain</th>\n",
       "      <th>weathersit_Misty-Mist_Cloudy</th>\n",
       "      <th>yr</th>\n",
       "      <th>holiday</th>\n",
       "      <th>workingday</th>\n",
       "      <th>temp</th>\n",
       "      <th>atemp</th>\n",
       "      <th>hum</th>\n",
       "      <th>windspeed</th>\n",
       "      <th>cnt</th>\n",
       "    </tr>\n",
       "  </thead>\n",
       "  <tbody>\n",
       "    <tr>\n",
       "      <th>653</th>\n",
       "      <td>0</td>\n",
       "      <td>0</td>\n",
       "      <td>1</td>\n",
       "      <td>0</td>\n",
       "      <td>0</td>\n",
       "      <td>0</td>\n",
       "      <td>0</td>\n",
       "      <td>0</td>\n",
       "      <td>0</td>\n",
       "      <td>0</td>\n",
       "      <td>...</td>\n",
       "      <td>0</td>\n",
       "      <td>0</td>\n",
       "      <td>1</td>\n",
       "      <td>0</td>\n",
       "      <td>1</td>\n",
       "      <td>0.509887</td>\n",
       "      <td>0.501133</td>\n",
       "      <td>0.575354</td>\n",
       "      <td>0.300794</td>\n",
       "      <td>0.864243</td>\n",
       "    </tr>\n",
       "    <tr>\n",
       "      <th>576</th>\n",
       "      <td>0</td>\n",
       "      <td>0</td>\n",
       "      <td>0</td>\n",
       "      <td>0</td>\n",
       "      <td>0</td>\n",
       "      <td>0</td>\n",
       "      <td>0</td>\n",
       "      <td>1</td>\n",
       "      <td>0</td>\n",
       "      <td>0</td>\n",
       "      <td>...</td>\n",
       "      <td>0</td>\n",
       "      <td>0</td>\n",
       "      <td>1</td>\n",
       "      <td>0</td>\n",
       "      <td>1</td>\n",
       "      <td>0.815169</td>\n",
       "      <td>0.766351</td>\n",
       "      <td>0.725633</td>\n",
       "      <td>0.264686</td>\n",
       "      <td>0.827658</td>\n",
       "    </tr>\n",
       "    <tr>\n",
       "      <th>426</th>\n",
       "      <td>1</td>\n",
       "      <td>0</td>\n",
       "      <td>0</td>\n",
       "      <td>0</td>\n",
       "      <td>0</td>\n",
       "      <td>0</td>\n",
       "      <td>0</td>\n",
       "      <td>0</td>\n",
       "      <td>0</td>\n",
       "      <td>1</td>\n",
       "      <td>...</td>\n",
       "      <td>0</td>\n",
       "      <td>1</td>\n",
       "      <td>1</td>\n",
       "      <td>0</td>\n",
       "      <td>0</td>\n",
       "      <td>0.442393</td>\n",
       "      <td>0.438975</td>\n",
       "      <td>0.640189</td>\n",
       "      <td>0.255342</td>\n",
       "      <td>0.465255</td>\n",
       "    </tr>\n",
       "    <tr>\n",
       "      <th>728</th>\n",
       "      <td>1</td>\n",
       "      <td>0</td>\n",
       "      <td>0</td>\n",
       "      <td>0</td>\n",
       "      <td>1</td>\n",
       "      <td>0</td>\n",
       "      <td>0</td>\n",
       "      <td>0</td>\n",
       "      <td>0</td>\n",
       "      <td>0</td>\n",
       "      <td>...</td>\n",
       "      <td>0</td>\n",
       "      <td>0</td>\n",
       "      <td>1</td>\n",
       "      <td>0</td>\n",
       "      <td>1</td>\n",
       "      <td>0.245101</td>\n",
       "      <td>0.200348</td>\n",
       "      <td>0.498067</td>\n",
       "      <td>0.663106</td>\n",
       "      <td>0.204096</td>\n",
       "    </tr>\n",
       "    <tr>\n",
       "      <th>482</th>\n",
       "      <td>0</td>\n",
       "      <td>1</td>\n",
       "      <td>0</td>\n",
       "      <td>0</td>\n",
       "      <td>0</td>\n",
       "      <td>0</td>\n",
       "      <td>0</td>\n",
       "      <td>0</td>\n",
       "      <td>0</td>\n",
       "      <td>0</td>\n",
       "      <td>...</td>\n",
       "      <td>0</td>\n",
       "      <td>1</td>\n",
       "      <td>1</td>\n",
       "      <td>0</td>\n",
       "      <td>0</td>\n",
       "      <td>0.395666</td>\n",
       "      <td>0.391735</td>\n",
       "      <td>0.504508</td>\n",
       "      <td>0.188475</td>\n",
       "      <td>0.482973</td>\n",
       "    </tr>\n",
       "  </tbody>\n",
       "</table>\n",
       "<p>5 rows × 30 columns</p>\n",
       "</div>"
      ],
      "text/plain": [
       "     season_Spring  season_Summer  season_Winter  mnth_Aug  mnth_Dec  \\\n",
       "653              0              0              1         0         0   \n",
       "576              0              0              0         0         0   \n",
       "426              1              0              0         0         0   \n",
       "728              1              0              0         0         1   \n",
       "482              0              1              0         0         0   \n",
       "\n",
       "     mnth_Feb  mnth_Jan  mnth_Jul  mnth_Jun  mnth_Mar  ...  \\\n",
       "653         0         0         0         0         0  ...   \n",
       "576         0         0         1         0         0  ...   \n",
       "426         0         0         0         0         1  ...   \n",
       "728         0         0         0         0         0  ...   \n",
       "482         0         0         0         0         0  ...   \n",
       "\n",
       "     weathersit_Light_Snow-Light_Rain  weathersit_Misty-Mist_Cloudy  yr  \\\n",
       "653                                 0                             0   1   \n",
       "576                                 0                             0   1   \n",
       "426                                 0                             1   1   \n",
       "728                                 0                             0   1   \n",
       "482                                 0                             1   1   \n",
       "\n",
       "     holiday  workingday      temp     atemp       hum  windspeed       cnt  \n",
       "653        0           1  0.509887  0.501133  0.575354   0.300794  0.864243  \n",
       "576        0           1  0.815169  0.766351  0.725633   0.264686  0.827658  \n",
       "426        0           0  0.442393  0.438975  0.640189   0.255342  0.465255  \n",
       "728        0           1  0.245101  0.200348  0.498067   0.663106  0.204096  \n",
       "482        0           0  0.395666  0.391735  0.504508   0.188475  0.482973  \n",
       "\n",
       "[5 rows x 30 columns]"
      ]
     },
     "execution_count": 31,
     "metadata": {},
     "output_type": "execute_result"
    }
   ],
   "source": [
    "bike_train.head()"
   ]
  },
  {
   "cell_type": "code",
   "execution_count": 32,
   "id": "d21ac194",
   "metadata": {},
   "outputs": [
    {
     "data": {
      "text/html": [
       "<div>\n",
       "<style scoped>\n",
       "    .dataframe tbody tr th:only-of-type {\n",
       "        vertical-align: middle;\n",
       "    }\n",
       "\n",
       "    .dataframe tbody tr th {\n",
       "        vertical-align: top;\n",
       "    }\n",
       "\n",
       "    .dataframe thead th {\n",
       "        text-align: right;\n",
       "    }\n",
       "</style>\n",
       "<table border=\"1\" class=\"dataframe\">\n",
       "  <thead>\n",
       "    <tr style=\"text-align: right;\">\n",
       "      <th></th>\n",
       "      <th>season_Spring</th>\n",
       "      <th>season_Summer</th>\n",
       "      <th>season_Winter</th>\n",
       "      <th>mnth_Aug</th>\n",
       "      <th>mnth_Dec</th>\n",
       "      <th>mnth_Feb</th>\n",
       "      <th>mnth_Jan</th>\n",
       "      <th>mnth_Jul</th>\n",
       "      <th>mnth_Jun</th>\n",
       "      <th>mnth_Mar</th>\n",
       "      <th>...</th>\n",
       "      <th>weathersit_Light_Snow-Light_Rain</th>\n",
       "      <th>weathersit_Misty-Mist_Cloudy</th>\n",
       "      <th>yr</th>\n",
       "      <th>holiday</th>\n",
       "      <th>workingday</th>\n",
       "      <th>temp</th>\n",
       "      <th>atemp</th>\n",
       "      <th>hum</th>\n",
       "      <th>windspeed</th>\n",
       "      <th>cnt</th>\n",
       "    </tr>\n",
       "  </thead>\n",
       "  <tbody>\n",
       "    <tr>\n",
       "      <th>count</th>\n",
       "      <td>510.000000</td>\n",
       "      <td>510.000000</td>\n",
       "      <td>510.00000</td>\n",
       "      <td>510.000000</td>\n",
       "      <td>510.000000</td>\n",
       "      <td>510.000000</td>\n",
       "      <td>510.000000</td>\n",
       "      <td>510.000000</td>\n",
       "      <td>510.000000</td>\n",
       "      <td>510.000000</td>\n",
       "      <td>...</td>\n",
       "      <td>510.000000</td>\n",
       "      <td>510.000000</td>\n",
       "      <td>510.000000</td>\n",
       "      <td>510.000000</td>\n",
       "      <td>510.000000</td>\n",
       "      <td>510.000000</td>\n",
       "      <td>510.000000</td>\n",
       "      <td>510.000000</td>\n",
       "      <td>510.000000</td>\n",
       "      <td>510.000000</td>\n",
       "    </tr>\n",
       "    <tr>\n",
       "      <th>mean</th>\n",
       "      <td>0.243137</td>\n",
       "      <td>0.245098</td>\n",
       "      <td>0.24902</td>\n",
       "      <td>0.096078</td>\n",
       "      <td>0.084314</td>\n",
       "      <td>0.066667</td>\n",
       "      <td>0.088235</td>\n",
       "      <td>0.076471</td>\n",
       "      <td>0.074510</td>\n",
       "      <td>0.098039</td>\n",
       "      <td>...</td>\n",
       "      <td>0.029412</td>\n",
       "      <td>0.343137</td>\n",
       "      <td>0.507843</td>\n",
       "      <td>0.025490</td>\n",
       "      <td>0.711765</td>\n",
       "      <td>0.537262</td>\n",
       "      <td>0.512989</td>\n",
       "      <td>0.650369</td>\n",
       "      <td>0.320768</td>\n",
       "      <td>0.513620</td>\n",
       "    </tr>\n",
       "    <tr>\n",
       "      <th>std</th>\n",
       "      <td>0.429398</td>\n",
       "      <td>0.430568</td>\n",
       "      <td>0.43287</td>\n",
       "      <td>0.294988</td>\n",
       "      <td>0.278131</td>\n",
       "      <td>0.249689</td>\n",
       "      <td>0.283915</td>\n",
       "      <td>0.266010</td>\n",
       "      <td>0.262857</td>\n",
       "      <td>0.297660</td>\n",
       "      <td>...</td>\n",
       "      <td>0.169124</td>\n",
       "      <td>0.475223</td>\n",
       "      <td>0.500429</td>\n",
       "      <td>0.157763</td>\n",
       "      <td>0.453386</td>\n",
       "      <td>0.225844</td>\n",
       "      <td>0.212385</td>\n",
       "      <td>0.145882</td>\n",
       "      <td>0.169797</td>\n",
       "      <td>0.224593</td>\n",
       "    </tr>\n",
       "    <tr>\n",
       "      <th>min</th>\n",
       "      <td>0.000000</td>\n",
       "      <td>0.000000</td>\n",
       "      <td>0.00000</td>\n",
       "      <td>0.000000</td>\n",
       "      <td>0.000000</td>\n",
       "      <td>0.000000</td>\n",
       "      <td>0.000000</td>\n",
       "      <td>0.000000</td>\n",
       "      <td>0.000000</td>\n",
       "      <td>0.000000</td>\n",
       "      <td>...</td>\n",
       "      <td>0.000000</td>\n",
       "      <td>0.000000</td>\n",
       "      <td>0.000000</td>\n",
       "      <td>0.000000</td>\n",
       "      <td>0.000000</td>\n",
       "      <td>0.000000</td>\n",
       "      <td>0.000000</td>\n",
       "      <td>0.000000</td>\n",
       "      <td>0.000000</td>\n",
       "      <td>0.000000</td>\n",
       "    </tr>\n",
       "    <tr>\n",
       "      <th>25%</th>\n",
       "      <td>0.000000</td>\n",
       "      <td>0.000000</td>\n",
       "      <td>0.00000</td>\n",
       "      <td>0.000000</td>\n",
       "      <td>0.000000</td>\n",
       "      <td>0.000000</td>\n",
       "      <td>0.000000</td>\n",
       "      <td>0.000000</td>\n",
       "      <td>0.000000</td>\n",
       "      <td>0.000000</td>\n",
       "      <td>...</td>\n",
       "      <td>0.000000</td>\n",
       "      <td>0.000000</td>\n",
       "      <td>0.000000</td>\n",
       "      <td>0.000000</td>\n",
       "      <td>0.000000</td>\n",
       "      <td>0.339853</td>\n",
       "      <td>0.332086</td>\n",
       "      <td>0.538643</td>\n",
       "      <td>0.199179</td>\n",
       "      <td>0.356420</td>\n",
       "    </tr>\n",
       "    <tr>\n",
       "      <th>50%</th>\n",
       "      <td>0.000000</td>\n",
       "      <td>0.000000</td>\n",
       "      <td>0.00000</td>\n",
       "      <td>0.000000</td>\n",
       "      <td>0.000000</td>\n",
       "      <td>0.000000</td>\n",
       "      <td>0.000000</td>\n",
       "      <td>0.000000</td>\n",
       "      <td>0.000000</td>\n",
       "      <td>0.000000</td>\n",
       "      <td>...</td>\n",
       "      <td>0.000000</td>\n",
       "      <td>0.000000</td>\n",
       "      <td>1.000000</td>\n",
       "      <td>0.000000</td>\n",
       "      <td>1.000000</td>\n",
       "      <td>0.540519</td>\n",
       "      <td>0.526811</td>\n",
       "      <td>0.653714</td>\n",
       "      <td>0.296763</td>\n",
       "      <td>0.518638</td>\n",
       "    </tr>\n",
       "    <tr>\n",
       "      <th>75%</th>\n",
       "      <td>0.000000</td>\n",
       "      <td>0.000000</td>\n",
       "      <td>0.00000</td>\n",
       "      <td>0.000000</td>\n",
       "      <td>0.000000</td>\n",
       "      <td>0.000000</td>\n",
       "      <td>0.000000</td>\n",
       "      <td>0.000000</td>\n",
       "      <td>0.000000</td>\n",
       "      <td>0.000000</td>\n",
       "      <td>...</td>\n",
       "      <td>0.000000</td>\n",
       "      <td>1.000000</td>\n",
       "      <td>1.000000</td>\n",
       "      <td>0.000000</td>\n",
       "      <td>1.000000</td>\n",
       "      <td>0.735215</td>\n",
       "      <td>0.688457</td>\n",
       "      <td>0.754830</td>\n",
       "      <td>0.414447</td>\n",
       "      <td>0.684710</td>\n",
       "    </tr>\n",
       "    <tr>\n",
       "      <th>max</th>\n",
       "      <td>1.000000</td>\n",
       "      <td>1.000000</td>\n",
       "      <td>1.00000</td>\n",
       "      <td>1.000000</td>\n",
       "      <td>1.000000</td>\n",
       "      <td>1.000000</td>\n",
       "      <td>1.000000</td>\n",
       "      <td>1.000000</td>\n",
       "      <td>1.000000</td>\n",
       "      <td>1.000000</td>\n",
       "      <td>...</td>\n",
       "      <td>1.000000</td>\n",
       "      <td>1.000000</td>\n",
       "      <td>1.000000</td>\n",
       "      <td>1.000000</td>\n",
       "      <td>1.000000</td>\n",
       "      <td>1.000000</td>\n",
       "      <td>1.000000</td>\n",
       "      <td>1.000000</td>\n",
       "      <td>1.000000</td>\n",
       "      <td>1.000000</td>\n",
       "    </tr>\n",
       "  </tbody>\n",
       "</table>\n",
       "<p>8 rows × 30 columns</p>\n",
       "</div>"
      ],
      "text/plain": [
       "       season_Spring  season_Summer  season_Winter    mnth_Aug    mnth_Dec  \\\n",
       "count     510.000000     510.000000      510.00000  510.000000  510.000000   \n",
       "mean        0.243137       0.245098        0.24902    0.096078    0.084314   \n",
       "std         0.429398       0.430568        0.43287    0.294988    0.278131   \n",
       "min         0.000000       0.000000        0.00000    0.000000    0.000000   \n",
       "25%         0.000000       0.000000        0.00000    0.000000    0.000000   \n",
       "50%         0.000000       0.000000        0.00000    0.000000    0.000000   \n",
       "75%         0.000000       0.000000        0.00000    0.000000    0.000000   \n",
       "max         1.000000       1.000000        1.00000    1.000000    1.000000   \n",
       "\n",
       "         mnth_Feb    mnth_Jan    mnth_Jul    mnth_Jun    mnth_Mar  ...  \\\n",
       "count  510.000000  510.000000  510.000000  510.000000  510.000000  ...   \n",
       "mean     0.066667    0.088235    0.076471    0.074510    0.098039  ...   \n",
       "std      0.249689    0.283915    0.266010    0.262857    0.297660  ...   \n",
       "min      0.000000    0.000000    0.000000    0.000000    0.000000  ...   \n",
       "25%      0.000000    0.000000    0.000000    0.000000    0.000000  ...   \n",
       "50%      0.000000    0.000000    0.000000    0.000000    0.000000  ...   \n",
       "75%      0.000000    0.000000    0.000000    0.000000    0.000000  ...   \n",
       "max      1.000000    1.000000    1.000000    1.000000    1.000000  ...   \n",
       "\n",
       "       weathersit_Light_Snow-Light_Rain  weathersit_Misty-Mist_Cloudy  \\\n",
       "count                        510.000000                    510.000000   \n",
       "mean                           0.029412                      0.343137   \n",
       "std                            0.169124                      0.475223   \n",
       "min                            0.000000                      0.000000   \n",
       "25%                            0.000000                      0.000000   \n",
       "50%                            0.000000                      0.000000   \n",
       "75%                            0.000000                      1.000000   \n",
       "max                            1.000000                      1.000000   \n",
       "\n",
       "               yr     holiday  workingday        temp       atemp         hum  \\\n",
       "count  510.000000  510.000000  510.000000  510.000000  510.000000  510.000000   \n",
       "mean     0.507843    0.025490    0.711765    0.537262    0.512989    0.650369   \n",
       "std      0.500429    0.157763    0.453386    0.225844    0.212385    0.145882   \n",
       "min      0.000000    0.000000    0.000000    0.000000    0.000000    0.000000   \n",
       "25%      0.000000    0.000000    0.000000    0.339853    0.332086    0.538643   \n",
       "50%      1.000000    0.000000    1.000000    0.540519    0.526811    0.653714   \n",
       "75%      1.000000    0.000000    1.000000    0.735215    0.688457    0.754830   \n",
       "max      1.000000    1.000000    1.000000    1.000000    1.000000    1.000000   \n",
       "\n",
       "        windspeed         cnt  \n",
       "count  510.000000  510.000000  \n",
       "mean     0.320768    0.513620  \n",
       "std      0.169797    0.224593  \n",
       "min      0.000000    0.000000  \n",
       "25%      0.199179    0.356420  \n",
       "50%      0.296763    0.518638  \n",
       "75%      0.414447    0.684710  \n",
       "max      1.000000    1.000000  \n",
       "\n",
       "[8 rows x 30 columns]"
      ]
     },
     "execution_count": 32,
     "metadata": {},
     "output_type": "execute_result"
    }
   ],
   "source": [
    "bike_train.describe()"
   ]
  },
  {
   "cell_type": "markdown",
   "id": "44d5cffa",
   "metadata": {},
   "source": [
    "## 4. Linear Model Building"
   ]
  },
  {
   "cell_type": "code",
   "execution_count": 33,
   "id": "91341b33",
   "metadata": {},
   "outputs": [],
   "source": [
    "# Diving train data into X and y\n",
    "\n",
    "y_train=bike_train.pop('cnt')\n",
    "X_train=bike_train"
   ]
  },
  {
   "cell_type": "code",
   "execution_count": 34,
   "id": "9cd00c24",
   "metadata": {},
   "outputs": [
    {
     "data": {
      "text/plain": [
       "(510,)"
      ]
     },
     "execution_count": 34,
     "metadata": {},
     "output_type": "execute_result"
    }
   ],
   "source": [
    "y_train.shape"
   ]
  },
  {
   "cell_type": "code",
   "execution_count": 35,
   "id": "dbcbab68",
   "metadata": {},
   "outputs": [
    {
     "data": {
      "text/plain": [
       "(510, 29)"
      ]
     },
     "execution_count": 35,
     "metadata": {},
     "output_type": "execute_result"
    }
   ],
   "source": [
    "X_train.shape"
   ]
  },
  {
   "cell_type": "markdown",
   "id": "fd423c6e",
   "metadata": {},
   "source": [
    "####  Now first we will use \"RFE\" (Recursive Feature Elimination) from scikit-learn for getting all significant columnss which we can use as part of Linear model building . \n",
    "#### Then we can proceed with statsmodel for making model more effcient.\n",
    "#### So, model building will be good mixture of automatic and manual handling."
   ]
  },
  {
   "cell_type": "code",
   "execution_count": 36,
   "id": "9c82e92c",
   "metadata": {},
   "outputs": [],
   "source": [
    "# Importing library for RFE\n",
    "\n",
    "from sklearn.feature_selection import RFE\n",
    "\n",
    "# Importing library for linear regression\n",
    "\n",
    "from sklearn.linear_model import LinearRegression\n"
   ]
  },
  {
   "cell_type": "code",
   "execution_count": 37,
   "id": "6dbf56b1",
   "metadata": {},
   "outputs": [],
   "source": [
    "# Creating object of linear regression\n",
    "lm = LinearRegression()"
   ]
  },
  {
   "cell_type": "code",
   "execution_count": 38,
   "id": "b1b960fe",
   "metadata": {},
   "outputs": [
    {
     "data": {
      "text/plain": [
       "LinearRegression()"
      ]
     },
     "execution_count": 38,
     "metadata": {},
     "output_type": "execute_result"
    }
   ],
   "source": [
    "# Fitting it using train data\n",
    "lm.fit(X_train,y_train)"
   ]
  },
  {
   "cell_type": "code",
   "execution_count": 39,
   "id": "25f89262",
   "metadata": {},
   "outputs": [],
   "source": [
    "# Using RFE for getting top 20 columns\n",
    "\n",
    "rfe=RFE(lm,20)"
   ]
  },
  {
   "cell_type": "code",
   "execution_count": 40,
   "id": "fa432382",
   "metadata": {},
   "outputs": [
    {
     "data": {
      "text/plain": [
       "RFE(estimator=LinearRegression(), n_features_to_select=20)"
      ]
     },
     "execution_count": 40,
     "metadata": {},
     "output_type": "execute_result"
    }
   ],
   "source": [
    "rfe.fit(X_train,y_train)"
   ]
  },
  {
   "cell_type": "code",
   "execution_count": 41,
   "id": "7f5d4859",
   "metadata": {},
   "outputs": [
    {
     "data": {
      "text/plain": [
       "[('season_Spring', True, 1),\n",
       " ('season_Summer', True, 1),\n",
       " ('season_Winter', True, 1),\n",
       " ('mnth_Aug', False, 5),\n",
       " ('mnth_Dec', True, 1),\n",
       " ('mnth_Feb', True, 1),\n",
       " ('mnth_Jan', True, 1),\n",
       " ('mnth_Jul', True, 1),\n",
       " ('mnth_Jun', False, 9),\n",
       " ('mnth_Mar', False, 10),\n",
       " ('mnth_May', False, 2),\n",
       " ('mnth_Nov', True, 1),\n",
       " ('mnth_Oct', False, 7),\n",
       " ('mnth_Sep', True, 1),\n",
       " ('weekday_Mon', False, 4),\n",
       " ('weekday_Sat', True, 1),\n",
       " ('weekday_Sun', True, 1),\n",
       " ('weekday_Thu', False, 8),\n",
       " ('weekday_Tue', False, 3),\n",
       " ('weekday_Wed', False, 6),\n",
       " ('weathersit_Light_Snow-Light_Rain', True, 1),\n",
       " ('weathersit_Misty-Mist_Cloudy', True, 1),\n",
       " ('yr', True, 1),\n",
       " ('holiday', True, 1),\n",
       " ('workingday', True, 1),\n",
       " ('temp', True, 1),\n",
       " ('atemp', True, 1),\n",
       " ('hum', True, 1),\n",
       " ('windspeed', True, 1)]"
      ]
     },
     "execution_count": 41,
     "metadata": {},
     "output_type": "execute_result"
    }
   ],
   "source": [
    "# List of all columns with their ranking and rfe support\n",
    "\n",
    "list(zip(X_train.columns,rfe.support_,rfe.ranking_))"
   ]
  },
  {
   "cell_type": "code",
   "execution_count": 42,
   "id": "8b846c34",
   "metadata": {},
   "outputs": [
    {
     "data": {
      "text/plain": [
       "Index(['season_Spring', 'season_Summer', 'season_Winter', 'mnth_Dec',\n",
       "       'mnth_Feb', 'mnth_Jan', 'mnth_Jul', 'mnth_Nov', 'mnth_Sep',\n",
       "       'weekday_Sat', 'weekday_Sun', 'weathersit_Light_Snow-Light_Rain',\n",
       "       'weathersit_Misty-Mist_Cloudy', 'yr', 'holiday', 'workingday', 'temp',\n",
       "       'atemp', 'hum', 'windspeed'],\n",
       "      dtype='object')"
      ]
     },
     "execution_count": 42,
     "metadata": {},
     "output_type": "execute_result"
    }
   ],
   "source": [
    "# Columns which all are supported by RFE\n",
    "\n",
    "col=X_train.columns[rfe.support_]\n",
    "col"
   ]
  },
  {
   "cell_type": "code",
   "execution_count": 43,
   "id": "eca439ae",
   "metadata": {},
   "outputs": [
    {
     "data": {
      "text/plain": [
       "Index(['mnth_Aug', 'mnth_Jun', 'mnth_Mar', 'mnth_May', 'mnth_Oct',\n",
       "       'weekday_Mon', 'weekday_Thu', 'weekday_Tue', 'weekday_Wed'],\n",
       "      dtype='object')"
      ]
     },
     "execution_count": 43,
     "metadata": {},
     "output_type": "execute_result"
    }
   ],
   "source": [
    "# Columns which all are not supported by RFE\n",
    "\n",
    "X_train.columns[~rfe.support_]"
   ]
  },
  {
   "cell_type": "markdown",
   "id": "94a91b57",
   "metadata": {},
   "source": [
    "#### Now we will make new data frame using columns we got from RFE and then we can proceed with Statsmodel for model optimization"
   ]
  },
  {
   "cell_type": "code",
   "execution_count": 44,
   "id": "a39e9903",
   "metadata": {},
   "outputs": [],
   "source": [
    "X_train_rfe=X_train[col]"
   ]
  },
  {
   "cell_type": "code",
   "execution_count": 45,
   "id": "8b60f9dd",
   "metadata": {},
   "outputs": [
    {
     "data": {
      "text/plain": [
       "Index(['season_Spring', 'season_Summer', 'season_Winter', 'mnth_Dec',\n",
       "       'mnth_Feb', 'mnth_Jan', 'mnth_Jul', 'mnth_Nov', 'mnth_Sep',\n",
       "       'weekday_Sat', 'weekday_Sun', 'weathersit_Light_Snow-Light_Rain',\n",
       "       'weathersit_Misty-Mist_Cloudy', 'yr', 'holiday', 'workingday', 'temp',\n",
       "       'atemp', 'hum', 'windspeed'],\n",
       "      dtype='object')"
      ]
     },
     "execution_count": 45,
     "metadata": {},
     "output_type": "execute_result"
    }
   ],
   "source": [
    "X_train_rfe.columns"
   ]
  },
  {
   "cell_type": "code",
   "execution_count": 46,
   "id": "0d7c8a80",
   "metadata": {},
   "outputs": [],
   "source": [
    "## Now we will use statsmodel \n",
    "## Importing library\n",
    "\n",
    "import statsmodels.api as sm"
   ]
  },
  {
   "cell_type": "code",
   "execution_count": 47,
   "id": "2c94b7e7",
   "metadata": {},
   "outputs": [],
   "source": [
    "# Adding constant \n",
    "\n",
    "X_train_rfe=sm.add_constant(X_train_rfe)"
   ]
  },
  {
   "cell_type": "code",
   "execution_count": 48,
   "id": "ac408ca7",
   "metadata": {},
   "outputs": [],
   "source": [
    "# fitting it using OLS\n",
    "\n",
    "lm=sm.OLS(y_train,X_train_rfe).fit()"
   ]
  },
  {
   "cell_type": "code",
   "execution_count": 49,
   "id": "7c64fad4",
   "metadata": {},
   "outputs": [
    {
     "data": {
      "text/plain": [
       "const                               0.380433\n",
       "season_Spring                      -0.053378\n",
       "season_Summer                       0.037029\n",
       "season_Winter                       0.101367\n",
       "mnth_Dec                           -0.048329\n",
       "mnth_Feb                           -0.035678\n",
       "mnth_Jan                           -0.062908\n",
       "mnth_Jul                           -0.055254\n",
       "mnth_Nov                           -0.043741\n",
       "mnth_Sep                            0.072287\n",
       "weekday_Sat                        -0.038225\n",
       "weekday_Sun                        -0.032401\n",
       "weathersit_Light_Snow-Light_Rain   -0.251368\n",
       "weathersit_Misty-Mist_Cloudy       -0.058831\n",
       "yr                                  0.230418\n",
       "holiday                            -0.133522\n",
       "workingday                         -0.054843\n",
       "temp                                0.432212\n",
       "atemp                               0.030871\n",
       "hum                                -0.152876\n",
       "windspeed                          -0.187634\n",
       "dtype: float64"
      ]
     },
     "execution_count": 49,
     "metadata": {},
     "output_type": "execute_result"
    }
   ],
   "source": [
    "# Checking parameters \n",
    "\n",
    "lm.params"
   ]
  },
  {
   "cell_type": "code",
   "execution_count": 50,
   "id": "5e800b5b",
   "metadata": {},
   "outputs": [
    {
     "name": "stdout",
     "output_type": "stream",
     "text": [
      "                            OLS Regression Results                            \n",
      "==============================================================================\n",
      "Dep. Variable:                    cnt   R-squared:                       0.848\n",
      "Model:                            OLS   Adj. R-squared:                  0.842\n",
      "Method:                 Least Squares   F-statistic:                     136.3\n",
      "Date:                Wed, 05 Jan 2022   Prob (F-statistic):          2.51e-185\n",
      "Time:                        22:52:06   Log-Likelihood:                 518.74\n",
      "No. Observations:                 510   AIC:                            -995.5\n",
      "Df Residuals:                     489   BIC:                            -906.6\n",
      "Df Model:                          20                                         \n",
      "Covariance Type:            nonrobust                                         \n",
      "====================================================================================================\n",
      "                                       coef    std err          t      P>|t|      [0.025      0.975]\n",
      "----------------------------------------------------------------------------------------------------\n",
      "const                                0.3804      0.081      4.711      0.000       0.222       0.539\n",
      "season_Spring                       -0.0534      0.022     -2.401      0.017      -0.097      -0.010\n",
      "season_Summer                        0.0370      0.016      2.352      0.019       0.006       0.068\n",
      "season_Winter                        0.1014      0.018      5.555      0.000       0.066       0.137\n",
      "mnth_Dec                            -0.0483      0.018     -2.641      0.009      -0.084      -0.012\n",
      "mnth_Feb                            -0.0357      0.022     -1.648      0.100      -0.078       0.007\n",
      "mnth_Jan                            -0.0629      0.021     -2.929      0.004      -0.105      -0.021\n",
      "mnth_Jul                            -0.0553      0.018     -3.031      0.003      -0.091      -0.019\n",
      "mnth_Nov                            -0.0437      0.019     -2.299      0.022      -0.081      -0.006\n",
      "mnth_Sep                             0.0723      0.017      4.278      0.000       0.039       0.105\n",
      "weekday_Sat                         -0.0382      0.071     -0.542      0.588      -0.177       0.100\n",
      "weekday_Sun                         -0.0324      0.070     -0.460      0.646      -0.171       0.106\n",
      "weathersit_Light_Snow-Light_Rain    -0.2514      0.026     -9.508      0.000      -0.303      -0.199\n",
      "weathersit_Misty-Mist_Cloudy        -0.0588      0.011     -5.594      0.000      -0.079      -0.038\n",
      "yr                                   0.2304      0.008     28.519      0.000       0.215       0.246\n",
      "holiday                             -0.1335      0.065     -2.040      0.042      -0.262      -0.005\n",
      "workingday                          -0.0548      0.071     -0.775      0.439      -0.194       0.084\n",
      "temp                                 0.4322      0.136      3.188      0.002       0.166       0.699\n",
      "atemp                                0.0309      0.137      0.225      0.822      -0.239       0.301\n",
      "hum                                 -0.1529      0.038     -4.035      0.000      -0.227      -0.078\n",
      "windspeed                           -0.1876      0.026     -7.150      0.000      -0.239      -0.136\n",
      "==============================================================================\n",
      "Omnibus:                       78.877   Durbin-Watson:                   2.015\n",
      "Prob(Omnibus):                  0.000   Jarque-Bera (JB):              189.669\n",
      "Skew:                          -0.801   Prob(JB):                     6.51e-42\n",
      "Kurtosis:                       5.522   Cond. No.                         87.7\n",
      "==============================================================================\n",
      "\n",
      "Notes:\n",
      "[1] Standard Errors assume that the covariance matrix of the errors is correctly specified.\n"
     ]
    }
   ],
   "source": [
    "# Checking summery\n",
    "\n",
    "print(lm.summary())"
   ]
  },
  {
   "cell_type": "markdown",
   "id": "cbea2583",
   "metadata": {},
   "source": [
    "`atemp` is insignificant in presence of other variables because of high P-Value. So we can drop this column."
   ]
  },
  {
   "cell_type": "code",
   "execution_count": 51,
   "id": "9f0b5e30",
   "metadata": {},
   "outputs": [],
   "source": [
    "X_train_new = X_train_rfe.drop([\"atemp\"], axis = 1)"
   ]
  },
  {
   "cell_type": "code",
   "execution_count": 52,
   "id": "a180efa0",
   "metadata": {},
   "outputs": [],
   "source": [
    "# Rebuiding model without atemp\n",
    "\n",
    "X_train_lm = sm.add_constant(X_train_new)\n",
    "lm = sm.OLS(y_train,X_train_lm).fit()"
   ]
  },
  {
   "cell_type": "code",
   "execution_count": 53,
   "id": "e7291416",
   "metadata": {},
   "outputs": [
    {
     "name": "stdout",
     "output_type": "stream",
     "text": [
      "                            OLS Regression Results                            \n",
      "==============================================================================\n",
      "Dep. Variable:                    cnt   R-squared:                       0.848\n",
      "Model:                            OLS   Adj. R-squared:                  0.842\n",
      "Method:                 Least Squares   F-statistic:                     143.8\n",
      "Date:                Wed, 05 Jan 2022   Prob (F-statistic):          2.11e-186\n",
      "Time:                        22:52:18   Log-Likelihood:                 518.71\n",
      "No. Observations:                 510   AIC:                            -997.4\n",
      "Df Residuals:                     490   BIC:                            -912.7\n",
      "Df Model:                          19                                         \n",
      "Covariance Type:            nonrobust                                         \n",
      "====================================================================================================\n",
      "                                       coef    std err          t      P>|t|      [0.025      0.975]\n",
      "----------------------------------------------------------------------------------------------------\n",
      "const                                0.3801      0.081      4.713      0.000       0.222       0.539\n",
      "season_Spring                       -0.0527      0.022     -2.395      0.017      -0.096      -0.009\n",
      "season_Summer                        0.0377      0.015      2.449      0.015       0.007       0.068\n",
      "season_Winter                        0.1021      0.018      5.700      0.000       0.067       0.137\n",
      "mnth_Dec                            -0.0483      0.018     -2.641      0.009      -0.084      -0.012\n",
      "mnth_Feb                            -0.0357      0.022     -1.652      0.099      -0.078       0.007\n",
      "mnth_Jan                            -0.0630      0.021     -2.940      0.003      -0.105      -0.021\n",
      "mnth_Jul                            -0.0550      0.018     -3.026      0.003      -0.091      -0.019\n",
      "mnth_Nov                            -0.0437      0.019     -2.298      0.022      -0.081      -0.006\n",
      "mnth_Sep                             0.0725      0.017      4.307      0.000       0.039       0.106\n",
      "weekday_Sat                         -0.0384      0.071     -0.544      0.587      -0.177       0.100\n",
      "weekday_Sun                         -0.0323      0.070     -0.459      0.647      -0.171       0.106\n",
      "weathersit_Light_Snow-Light_Rain    -0.2518      0.026     -9.552      0.000      -0.304      -0.200\n",
      "weathersit_Misty-Mist_Cloudy        -0.0589      0.011     -5.606      0.000      -0.080      -0.038\n",
      "yr                                   0.2304      0.008     28.546      0.000       0.215       0.246\n",
      "holiday                             -0.1337      0.065     -2.044      0.041      -0.262      -0.005\n",
      "workingday                          -0.0547      0.071     -0.774      0.439      -0.194       0.084\n",
      "temp                                 0.4614      0.038     12.104      0.000       0.387       0.536\n",
      "hum                                 -0.1525      0.038     -4.032      0.000      -0.227      -0.078\n",
      "windspeed                           -0.1888      0.026     -7.344      0.000      -0.239      -0.138\n",
      "==============================================================================\n",
      "Omnibus:                       78.492   Durbin-Watson:                   2.014\n",
      "Prob(Omnibus):                  0.000   Jarque-Bera (JB):              188.559\n",
      "Skew:                          -0.797   Prob(JB):                     1.13e-41\n",
      "Kurtosis:                       5.516   Cond. No.                         68.1\n",
      "==============================================================================\n",
      "\n",
      "Notes:\n",
      "[1] Standard Errors assume that the covariance matrix of the errors is correctly specified.\n"
     ]
    }
   ],
   "source": [
    "print(lm.summary())"
   ]
  },
  {
   "cell_type": "markdown",
   "id": "34d87d7c",
   "metadata": {},
   "source": [
    "`weekday_Sun` is insignificant in presence of other variables because of high P-Value. So we can drop this column."
   ]
  },
  {
   "cell_type": "code",
   "execution_count": 54,
   "id": "e0d05a9b",
   "metadata": {},
   "outputs": [],
   "source": [
    "X_train_new = X_train_new.drop(['weekday_Sun'], axis = 1)"
   ]
  },
  {
   "cell_type": "code",
   "execution_count": 55,
   "id": "e08e6d73",
   "metadata": {},
   "outputs": [],
   "source": [
    "# Rebuiding model without weekday_Sun\n",
    "\n",
    "X_train_lm = sm.add_constant(X_train_new)\n",
    "lm = sm.OLS(y_train,X_train_lm).fit()"
   ]
  },
  {
   "cell_type": "code",
   "execution_count": 56,
   "id": "c30beded",
   "metadata": {},
   "outputs": [
    {
     "name": "stdout",
     "output_type": "stream",
     "text": [
      "                            OLS Regression Results                            \n",
      "==============================================================================\n",
      "Dep. Variable:                    cnt   R-squared:                       0.848\n",
      "Model:                            OLS   Adj. R-squared:                  0.842\n",
      "Method:                 Least Squares   F-statistic:                     152.0\n",
      "Date:                Wed, 05 Jan 2022   Prob (F-statistic):          1.88e-187\n",
      "Time:                        22:52:30   Log-Likelihood:                 518.60\n",
      "No. Observations:                 510   AIC:                            -999.2\n",
      "Df Residuals:                     491   BIC:                            -918.8\n",
      "Df Model:                          18                                         \n",
      "Covariance Type:            nonrobust                                         \n",
      "====================================================================================================\n",
      "                                       coef    std err          t      P>|t|      [0.025      0.975]\n",
      "----------------------------------------------------------------------------------------------------\n",
      "const                                0.3474      0.038      9.220      0.000       0.273       0.421\n",
      "season_Spring                       -0.0524      0.022     -2.386      0.017      -0.096      -0.009\n",
      "season_Summer                        0.0378      0.015      2.458      0.014       0.008       0.068\n",
      "season_Winter                        0.1021      0.018      5.706      0.000       0.067       0.137\n",
      "mnth_Dec                            -0.0482      0.018     -2.637      0.009      -0.084      -0.012\n",
      "mnth_Feb                            -0.0355      0.022     -1.643      0.101      -0.078       0.007\n",
      "mnth_Jan                            -0.0629      0.021     -2.936      0.003      -0.105      -0.021\n",
      "mnth_Jul                            -0.0550      0.018     -3.031      0.003      -0.091      -0.019\n",
      "mnth_Nov                            -0.0446      0.019     -2.360      0.019      -0.082      -0.007\n",
      "mnth_Sep                             0.0727      0.017      4.322      0.000       0.040       0.106\n",
      "weekday_Sat                         -0.0068      0.015     -0.443      0.658      -0.037       0.023\n",
      "weathersit_Light_Snow-Light_Rain    -0.2517      0.026     -9.557      0.000      -0.303      -0.200\n",
      "weathersit_Misty-Mist_Cloudy        -0.0589      0.010     -5.610      0.000      -0.079      -0.038\n",
      "yr                                   0.2306      0.008     28.655      0.000       0.215       0.246\n",
      "holiday                             -0.1064      0.027     -3.909      0.000      -0.160      -0.053\n",
      "workingday                          -0.0227      0.012     -1.928      0.054      -0.046       0.000\n",
      "temp                                 0.4617      0.038     12.123      0.000       0.387       0.537\n",
      "hum                                 -0.1518      0.038     -4.020      0.000      -0.226      -0.078\n",
      "windspeed                           -0.1891      0.026     -7.365      0.000      -0.240      -0.139\n",
      "==============================================================================\n",
      "Omnibus:                       78.579   Durbin-Watson:                   2.014\n",
      "Prob(Omnibus):                  0.000   Jarque-Bera (JB):              186.920\n",
      "Skew:                          -0.802   Prob(JB):                     2.58e-41\n",
      "Kurtosis:                       5.495   Cond. No.                         23.8\n",
      "==============================================================================\n",
      "\n",
      "Notes:\n",
      "[1] Standard Errors assume that the covariance matrix of the errors is correctly specified.\n"
     ]
    }
   ],
   "source": [
    "print(lm.summary())"
   ]
  },
  {
   "cell_type": "markdown",
   "id": "67b20b40",
   "metadata": {},
   "source": [
    "`weekday_Sat` is insignificant in presence of other variables because of high P-Value. So we can drop this column."
   ]
  },
  {
   "cell_type": "code",
   "execution_count": 57,
   "id": "d522dec8",
   "metadata": {},
   "outputs": [],
   "source": [
    "X_train_new = X_train_new.drop(['weekday_Sat'], axis = 1)"
   ]
  },
  {
   "cell_type": "code",
   "execution_count": 58,
   "id": "d919dee0",
   "metadata": {},
   "outputs": [],
   "source": [
    "# Rebuiding model without weekday_Sat\n",
    "\n",
    "X_train_lm = sm.add_constant(X_train_new)\n",
    "lm = sm.OLS(y_train,X_train_lm).fit()"
   ]
  },
  {
   "cell_type": "code",
   "execution_count": 59,
   "id": "9c956cc4",
   "metadata": {},
   "outputs": [
    {
     "name": "stdout",
     "output_type": "stream",
     "text": [
      "                            OLS Regression Results                            \n",
      "==============================================================================\n",
      "Dep. Variable:                    cnt   R-squared:                       0.848\n",
      "Model:                            OLS   Adj. R-squared:                  0.843\n",
      "Method:                 Least Squares   F-statistic:                     161.2\n",
      "Date:                Wed, 05 Jan 2022   Prob (F-statistic):          1.60e-188\n",
      "Time:                        22:52:43   Log-Likelihood:                 518.50\n",
      "No. Observations:                 510   AIC:                            -1001.\n",
      "Df Residuals:                     492   BIC:                            -924.8\n",
      "Df Model:                          17                                         \n",
      "Covariance Type:            nonrobust                                         \n",
      "====================================================================================================\n",
      "                                       coef    std err          t      P>|t|      [0.025      0.975]\n",
      "----------------------------------------------------------------------------------------------------\n",
      "const                                0.3443      0.037      9.310      0.000       0.272       0.417\n",
      "season_Spring                       -0.0526      0.022     -2.399      0.017      -0.096      -0.010\n",
      "season_Summer                        0.0377      0.015      2.453      0.015       0.008       0.068\n",
      "season_Winter                        0.1021      0.018      5.709      0.000       0.067       0.137\n",
      "mnth_Dec                            -0.0480      0.018     -2.632      0.009      -0.084      -0.012\n",
      "mnth_Feb                            -0.0353      0.022     -1.635      0.103      -0.078       0.007\n",
      "mnth_Jan                            -0.0629      0.021     -2.939      0.003      -0.105      -0.021\n",
      "mnth_Jul                            -0.0548      0.018     -3.022      0.003      -0.090      -0.019\n",
      "mnth_Nov                            -0.0450      0.019     -2.390      0.017      -0.082      -0.008\n",
      "mnth_Sep                             0.0727      0.017      4.326      0.000       0.040       0.106\n",
      "weathersit_Light_Snow-Light_Rain    -0.2521      0.026     -9.590      0.000      -0.304      -0.200\n",
      "weathersit_Misty-Mist_Cloudy        -0.0588      0.010     -5.606      0.000      -0.079      -0.038\n",
      "yr                                   0.2307      0.008     28.704      0.000       0.215       0.247\n",
      "holiday                             -0.1035      0.026     -3.919      0.000      -0.155      -0.052\n",
      "workingday                          -0.0194      0.009     -2.132      0.033      -0.037      -0.002\n",
      "temp                                 0.4613      0.038     12.126      0.000       0.387       0.536\n",
      "hum                                 -0.1518      0.038     -4.025      0.000      -0.226      -0.078\n",
      "windspeed                           -0.1888      0.026     -7.363      0.000      -0.239      -0.138\n",
      "==============================================================================\n",
      "Omnibus:                       77.523   Durbin-Watson:                   2.011\n",
      "Prob(Omnibus):                  0.000   Jarque-Bera (JB):              184.128\n",
      "Skew:                          -0.792   Prob(JB):                     1.04e-40\n",
      "Kurtosis:                       5.481   Cond. No.                         23.7\n",
      "==============================================================================\n",
      "\n",
      "Notes:\n",
      "[1] Standard Errors assume that the covariance matrix of the errors is correctly specified.\n"
     ]
    }
   ],
   "source": [
    "print(lm.summary())"
   ]
  },
  {
   "cell_type": "markdown",
   "id": "3f67a255",
   "metadata": {},
   "source": [
    "`mnth_Feb` is still insignificant in presence of other variables. So we can drop this column."
   ]
  },
  {
   "cell_type": "code",
   "execution_count": 60,
   "id": "6fdbbe54",
   "metadata": {},
   "outputs": [],
   "source": [
    "X_train_new = X_train_new.drop(['mnth_Feb'], axis = 1)"
   ]
  },
  {
   "cell_type": "code",
   "execution_count": 61,
   "id": "10afeef9",
   "metadata": {},
   "outputs": [],
   "source": [
    "# Rebuiding model without mnth_Feb\n",
    "\n",
    "X_train_lm = sm.add_constant(X_train_new)\n",
    "lm = sm.OLS(y_train,X_train_lm).fit()"
   ]
  },
  {
   "cell_type": "code",
   "execution_count": 62,
   "id": "e760b5fb",
   "metadata": {},
   "outputs": [
    {
     "name": "stdout",
     "output_type": "stream",
     "text": [
      "                            OLS Regression Results                            \n",
      "==============================================================================\n",
      "Dep. Variable:                    cnt   R-squared:                       0.847\n",
      "Model:                            OLS   Adj. R-squared:                  0.842\n",
      "Method:                 Least Squares   F-statistic:                     170.5\n",
      "Date:                Wed, 05 Jan 2022   Prob (F-statistic):          4.55e-189\n",
      "Time:                        22:52:55   Log-Likelihood:                 517.12\n",
      "No. Observations:                 510   AIC:                            -1000.\n",
      "Df Residuals:                     493   BIC:                            -928.3\n",
      "Df Model:                          16                                         \n",
      "Covariance Type:            nonrobust                                         \n",
      "====================================================================================================\n",
      "                                       coef    std err          t      P>|t|      [0.025      0.975]\n",
      "----------------------------------------------------------------------------------------------------\n",
      "const                                0.3329      0.036      9.150      0.000       0.261       0.404\n",
      "season_Spring                       -0.0623      0.021     -2.946      0.003      -0.104      -0.021\n",
      "season_Summer                        0.0410      0.015      2.684      0.008       0.011       0.071\n",
      "season_Winter                        0.1039      0.018      5.809      0.000       0.069       0.139\n",
      "mnth_Dec                            -0.0390      0.017     -2.237      0.026      -0.073      -0.005\n",
      "mnth_Jan                            -0.0440      0.018     -2.439      0.015      -0.080      -0.009\n",
      "mnth_Jul                            -0.0558      0.018     -3.073      0.002      -0.091      -0.020\n",
      "mnth_Nov                            -0.0403      0.019     -2.160      0.031      -0.077      -0.004\n",
      "mnth_Sep                             0.0742      0.017      4.413      0.000       0.041       0.107\n",
      "weathersit_Light_Snow-Light_Rain    -0.2508      0.026     -9.528      0.000      -0.303      -0.199\n",
      "weathersit_Misty-Mist_Cloudy        -0.0585      0.011     -5.573      0.000      -0.079      -0.038\n",
      "yr                                   0.2304      0.008     28.621      0.000       0.215       0.246\n",
      "holiday                             -0.1062      0.026     -4.019      0.000      -0.158      -0.054\n",
      "workingday                          -0.0197      0.009     -2.158      0.031      -0.038      -0.002\n",
      "temp                                 0.4770      0.037     12.936      0.000       0.405       0.549\n",
      "hum                                 -0.1538      0.038     -4.073      0.000      -0.228      -0.080\n",
      "windspeed                           -0.1876      0.026     -7.306      0.000      -0.238      -0.137\n",
      "==============================================================================\n",
      "Omnibus:                       72.898   Durbin-Watson:                   2.013\n",
      "Prob(Omnibus):                  0.000   Jarque-Bera (JB):              171.556\n",
      "Skew:                          -0.751   Prob(JB):                     5.59e-38\n",
      "Kurtosis:                       5.412   Cond. No.                         23.0\n",
      "==============================================================================\n",
      "\n",
      "Notes:\n",
      "[1] Standard Errors assume that the covariance matrix of the errors is correctly specified.\n"
     ]
    }
   ],
   "source": [
    "print(lm.summary())"
   ]
  },
  {
   "cell_type": "markdown",
   "id": "8dbf62b3",
   "metadata": {},
   "source": [
    "### We can still see some of columns are having high P Value . Lets check VIF"
   ]
  },
  {
   "cell_type": "code",
   "execution_count": 63,
   "id": "a8a63546",
   "metadata": {},
   "outputs": [],
   "source": [
    "# Dropping constant for now\n",
    "\n",
    "X_train_new = X_train_new.drop(['const'], axis=1)"
   ]
  },
  {
   "cell_type": "code",
   "execution_count": 64,
   "id": "76a4abf0",
   "metadata": {},
   "outputs": [
    {
     "data": {
      "text/html": [
       "<div>\n",
       "<style scoped>\n",
       "    .dataframe tbody tr th:only-of-type {\n",
       "        vertical-align: middle;\n",
       "    }\n",
       "\n",
       "    .dataframe tbody tr th {\n",
       "        vertical-align: top;\n",
       "    }\n",
       "\n",
       "    .dataframe thead th {\n",
       "        text-align: right;\n",
       "    }\n",
       "</style>\n",
       "<table border=\"1\" class=\"dataframe\">\n",
       "  <thead>\n",
       "    <tr style=\"text-align: right;\">\n",
       "      <th></th>\n",
       "      <th>Features</th>\n",
       "      <th>VIF</th>\n",
       "    </tr>\n",
       "  </thead>\n",
       "  <tbody>\n",
       "    <tr>\n",
       "      <th>14</th>\n",
       "      <td>hum</td>\n",
       "      <td>31.92</td>\n",
       "    </tr>\n",
       "    <tr>\n",
       "      <th>13</th>\n",
       "      <td>temp</td>\n",
       "      <td>17.92</td>\n",
       "    </tr>\n",
       "    <tr>\n",
       "      <th>15</th>\n",
       "      <td>windspeed</td>\n",
       "      <td>4.75</td>\n",
       "    </tr>\n",
       "    <tr>\n",
       "      <th>0</th>\n",
       "      <td>season_Spring</td>\n",
       "      <td>4.42</td>\n",
       "    </tr>\n",
       "    <tr>\n",
       "      <th>2</th>\n",
       "      <td>season_Winter</td>\n",
       "      <td>4.10</td>\n",
       "    </tr>\n",
       "    <tr>\n",
       "      <th>12</th>\n",
       "      <td>workingday</td>\n",
       "      <td>3.69</td>\n",
       "    </tr>\n",
       "    <tr>\n",
       "      <th>1</th>\n",
       "      <td>season_Summer</td>\n",
       "      <td>2.83</td>\n",
       "    </tr>\n",
       "    <tr>\n",
       "      <th>9</th>\n",
       "      <td>weathersit_Misty-Mist_Cloudy</td>\n",
       "      <td>2.37</td>\n",
       "    </tr>\n",
       "    <tr>\n",
       "      <th>10</th>\n",
       "      <td>yr</td>\n",
       "      <td>2.09</td>\n",
       "    </tr>\n",
       "    <tr>\n",
       "      <th>6</th>\n",
       "      <td>mnth_Nov</td>\n",
       "      <td>1.84</td>\n",
       "    </tr>\n",
       "    <tr>\n",
       "      <th>4</th>\n",
       "      <td>mnth_Jan</td>\n",
       "      <td>1.75</td>\n",
       "    </tr>\n",
       "    <tr>\n",
       "      <th>5</th>\n",
       "      <td>mnth_Jul</td>\n",
       "      <td>1.59</td>\n",
       "    </tr>\n",
       "    <tr>\n",
       "      <th>3</th>\n",
       "      <td>mnth_Dec</td>\n",
       "      <td>1.55</td>\n",
       "    </tr>\n",
       "    <tr>\n",
       "      <th>7</th>\n",
       "      <td>mnth_Sep</td>\n",
       "      <td>1.41</td>\n",
       "    </tr>\n",
       "    <tr>\n",
       "      <th>8</th>\n",
       "      <td>weathersit_Light_Snow-Light_Rain</td>\n",
       "      <td>1.28</td>\n",
       "    </tr>\n",
       "    <tr>\n",
       "      <th>11</th>\n",
       "      <td>holiday</td>\n",
       "      <td>1.14</td>\n",
       "    </tr>\n",
       "  </tbody>\n",
       "</table>\n",
       "</div>"
      ],
      "text/plain": [
       "                            Features    VIF\n",
       "14                               hum  31.92\n",
       "13                              temp  17.92\n",
       "15                         windspeed   4.75\n",
       "0                      season_Spring   4.42\n",
       "2                      season_Winter   4.10\n",
       "12                        workingday   3.69\n",
       "1                      season_Summer   2.83\n",
       "9       weathersit_Misty-Mist_Cloudy   2.37\n",
       "10                                yr   2.09\n",
       "6                           mnth_Nov   1.84\n",
       "4                           mnth_Jan   1.75\n",
       "5                           mnth_Jul   1.59\n",
       "3                           mnth_Dec   1.55\n",
       "7                           mnth_Sep   1.41\n",
       "8   weathersit_Light_Snow-Light_Rain   1.28\n",
       "11                           holiday   1.14"
      ]
     },
     "execution_count": 64,
     "metadata": {},
     "output_type": "execute_result"
    }
   ],
   "source": [
    "# Calculate the VIFs for the new model\n",
    "from statsmodels.stats.outliers_influence import variance_inflation_factor\n",
    "\n",
    "vif = pd.DataFrame()\n",
    "X = X_train_new\n",
    "vif['Features'] = X.columns\n",
    "vif['VIF'] = [variance_inflation_factor(X.values, i) for i in range(X.shape[1])]\n",
    "vif['VIF'] = round(vif['VIF'], 2)\n",
    "vif = vif.sort_values(by = \"VIF\", ascending = False)\n",
    "vif"
   ]
  },
  {
   "cell_type": "markdown",
   "id": "e33a6a59",
   "metadata": {},
   "source": [
    "#### We want a VIF that is less than 5. So here we need to drop some columns."
   ]
  },
  {
   "cell_type": "markdown",
   "id": "42673697",
   "metadata": {},
   "source": [
    "- We will remove the 'hum' column based on its high 'VIF' value.\n",
    "- We can see 'hum' is having second highest VIF still we will drop 'hum' and not 'temp' because temperature is an important from business point of view for model prediction."
   ]
  },
  {
   "cell_type": "code",
   "execution_count": 65,
   "id": "45a2ae66",
   "metadata": {},
   "outputs": [],
   "source": [
    "X_train_new = X_train_new.drop([\"hum\"], axis = 1)"
   ]
  },
  {
   "cell_type": "code",
   "execution_count": 66,
   "id": "ed623787",
   "metadata": {},
   "outputs": [],
   "source": [
    "# Rebuiding model without hum\n",
    "\n",
    "X_train_lm = sm.add_constant(X_train_new)\n",
    "lm = sm.OLS(y_train,X_train_lm).fit()"
   ]
  },
  {
   "cell_type": "code",
   "execution_count": 67,
   "id": "258c7a2b",
   "metadata": {},
   "outputs": [
    {
     "name": "stdout",
     "output_type": "stream",
     "text": [
      "                            OLS Regression Results                            \n",
      "==============================================================================\n",
      "Dep. Variable:                    cnt   R-squared:                       0.842\n",
      "Model:                            OLS   Adj. R-squared:                  0.837\n",
      "Method:                 Least Squares   F-statistic:                     175.2\n",
      "Date:                Wed, 05 Jan 2022   Prob (F-statistic):          1.13e-186\n",
      "Time:                        22:53:09   Log-Likelihood:                 508.68\n",
      "No. Observations:                 510   AIC:                            -985.4\n",
      "Df Residuals:                     494   BIC:                            -917.6\n",
      "Df Model:                          15                                         \n",
      "Covariance Type:            nonrobust                                         \n",
      "====================================================================================================\n",
      "                                       coef    std err          t      P>|t|      [0.025      0.975]\n",
      "----------------------------------------------------------------------------------------------------\n",
      "const                                0.2646      0.033      8.069      0.000       0.200       0.329\n",
      "season_Spring                       -0.0719      0.021     -3.365      0.001      -0.114      -0.030\n",
      "season_Summer                        0.0339      0.015      2.198      0.028       0.004       0.064\n",
      "season_Winter                        0.0898      0.018      5.041      0.000       0.055       0.125\n",
      "mnth_Dec                            -0.0462      0.018     -2.627      0.009      -0.081      -0.012\n",
      "mnth_Jan                            -0.0503      0.018     -2.753      0.006      -0.086      -0.014\n",
      "mnth_Jul                            -0.0509      0.018     -2.769      0.006      -0.087      -0.015\n",
      "mnth_Nov                            -0.0411      0.019     -2.167      0.031      -0.078      -0.004\n",
      "mnth_Sep                             0.0677      0.017      3.984      0.000       0.034       0.101\n",
      "weathersit_Light_Snow-Light_Rain    -0.2939      0.024    -12.008      0.000      -0.342      -0.246\n",
      "weathersit_Misty-Mist_Cloudy        -0.0833      0.009     -9.584      0.000      -0.100      -0.066\n",
      "yr                                   0.2342      0.008     28.835      0.000       0.218       0.250\n",
      "holiday                             -0.1090      0.027     -4.066      0.000      -0.162      -0.056\n",
      "workingday                          -0.0226      0.009     -2.447      0.015      -0.041      -0.004\n",
      "temp                                 0.4362      0.036     12.103      0.000       0.365       0.507\n",
      "windspeed                           -0.1590      0.025     -6.339      0.000      -0.208      -0.110\n",
      "==============================================================================\n",
      "Omnibus:                       75.619   Durbin-Watson:                   2.008\n",
      "Prob(Omnibus):                  0.000   Jarque-Bera (JB):              180.431\n",
      "Skew:                          -0.772   Prob(JB):                     6.61e-40\n",
      "Kurtosis:                       5.471   Cond. No.                         21.3\n",
      "==============================================================================\n",
      "\n",
      "Notes:\n",
      "[1] Standard Errors assume that the covariance matrix of the errors is correctly specified.\n"
     ]
    }
   ],
   "source": [
    "print(lm.summary())"
   ]
  },
  {
   "cell_type": "code",
   "execution_count": 68,
   "id": "598b5650",
   "metadata": {},
   "outputs": [
    {
     "data": {
      "text/html": [
       "<div>\n",
       "<style scoped>\n",
       "    .dataframe tbody tr th:only-of-type {\n",
       "        vertical-align: middle;\n",
       "    }\n",
       "\n",
       "    .dataframe tbody tr th {\n",
       "        vertical-align: top;\n",
       "    }\n",
       "\n",
       "    .dataframe thead th {\n",
       "        text-align: right;\n",
       "    }\n",
       "</style>\n",
       "<table border=\"1\" class=\"dataframe\">\n",
       "  <thead>\n",
       "    <tr style=\"text-align: right;\">\n",
       "      <th></th>\n",
       "      <th>Features</th>\n",
       "      <th>VIF</th>\n",
       "    </tr>\n",
       "  </thead>\n",
       "  <tbody>\n",
       "    <tr>\n",
       "      <th>13</th>\n",
       "      <td>temp</td>\n",
       "      <td>6.11</td>\n",
       "    </tr>\n",
       "    <tr>\n",
       "      <th>14</th>\n",
       "      <td>windspeed</td>\n",
       "      <td>4.68</td>\n",
       "    </tr>\n",
       "    <tr>\n",
       "      <th>12</th>\n",
       "      <td>workingday</td>\n",
       "      <td>3.58</td>\n",
       "    </tr>\n",
       "    <tr>\n",
       "      <th>0</th>\n",
       "      <td>season_Spring</td>\n",
       "      <td>3.08</td>\n",
       "    </tr>\n",
       "    <tr>\n",
       "      <th>2</th>\n",
       "      <td>season_Winter</td>\n",
       "      <td>3.07</td>\n",
       "    </tr>\n",
       "    <tr>\n",
       "      <th>1</th>\n",
       "      <td>season_Summer</td>\n",
       "      <td>2.31</td>\n",
       "    </tr>\n",
       "    <tr>\n",
       "      <th>10</th>\n",
       "      <td>yr</td>\n",
       "      <td>2.07</td>\n",
       "    </tr>\n",
       "    <tr>\n",
       "      <th>6</th>\n",
       "      <td>mnth_Nov</td>\n",
       "      <td>1.81</td>\n",
       "    </tr>\n",
       "    <tr>\n",
       "      <th>4</th>\n",
       "      <td>mnth_Jan</td>\n",
       "      <td>1.66</td>\n",
       "    </tr>\n",
       "    <tr>\n",
       "      <th>5</th>\n",
       "      <td>mnth_Jul</td>\n",
       "      <td>1.59</td>\n",
       "    </tr>\n",
       "    <tr>\n",
       "      <th>9</th>\n",
       "      <td>weathersit_Misty-Mist_Cloudy</td>\n",
       "      <td>1.56</td>\n",
       "    </tr>\n",
       "    <tr>\n",
       "      <th>3</th>\n",
       "      <td>mnth_Dec</td>\n",
       "      <td>1.46</td>\n",
       "    </tr>\n",
       "    <tr>\n",
       "      <th>7</th>\n",
       "      <td>mnth_Sep</td>\n",
       "      <td>1.36</td>\n",
       "    </tr>\n",
       "    <tr>\n",
       "      <th>11</th>\n",
       "      <td>holiday</td>\n",
       "      <td>1.13</td>\n",
       "    </tr>\n",
       "    <tr>\n",
       "      <th>8</th>\n",
       "      <td>weathersit_Light_Snow-Light_Rain</td>\n",
       "      <td>1.09</td>\n",
       "    </tr>\n",
       "  </tbody>\n",
       "</table>\n",
       "</div>"
      ],
      "text/plain": [
       "                            Features   VIF\n",
       "13                              temp  6.11\n",
       "14                         windspeed  4.68\n",
       "12                        workingday  3.58\n",
       "0                      season_Spring  3.08\n",
       "2                      season_Winter  3.07\n",
       "1                      season_Summer  2.31\n",
       "10                                yr  2.07\n",
       "6                           mnth_Nov  1.81\n",
       "4                           mnth_Jan  1.66\n",
       "5                           mnth_Jul  1.59\n",
       "9       weathersit_Misty-Mist_Cloudy  1.56\n",
       "3                           mnth_Dec  1.46\n",
       "7                           mnth_Sep  1.36\n",
       "11                           holiday  1.13\n",
       "8   weathersit_Light_Snow-Light_Rain  1.09"
      ]
     },
     "execution_count": 68,
     "metadata": {},
     "output_type": "execute_result"
    }
   ],
   "source": [
    "# Calculate the VIFs for the new model\n",
    "vif = pd.DataFrame()\n",
    "X = X_train_new\n",
    "vif['Features'] = X.columns\n",
    "vif['VIF'] = [variance_inflation_factor(X.values, i) for i in range(X.shape[1])]\n",
    "vif['VIF'] = round(vif['VIF'], 2)\n",
    "vif = vif.sort_values(by = \"VIF\", ascending = False)\n",
    "vif"
   ]
  },
  {
   "cell_type": "markdown",
   "id": "8d5102f4",
   "metadata": {},
   "source": [
    "### Now we can see all columns are having VIF value less than 5 except 'temp'. So lets again drop column using P value . May that will help to reduce VIF of Temp column."
   ]
  },
  {
   "cell_type": "markdown",
   "id": "637c4710",
   "metadata": {},
   "source": [
    "`mnth_Nov` is still insignificant because of high p value . So we can drop it"
   ]
  },
  {
   "cell_type": "code",
   "execution_count": 69,
   "id": "c590ab2d",
   "metadata": {},
   "outputs": [],
   "source": [
    "X_train_new = X_train_new.drop(['mnth_Nov'], axis = 1)"
   ]
  },
  {
   "cell_type": "code",
   "execution_count": 70,
   "id": "16ad2c4a",
   "metadata": {},
   "outputs": [],
   "source": [
    "# Rebuiding model without mnth_Nov\n",
    "\n",
    "X_train_lm = sm.add_constant(X_train_new)\n",
    "lm = sm.OLS(y_train,X_train_lm).fit()"
   ]
  },
  {
   "cell_type": "code",
   "execution_count": 71,
   "id": "5dc689da",
   "metadata": {},
   "outputs": [
    {
     "name": "stdout",
     "output_type": "stream",
     "text": [
      "                            OLS Regression Results                            \n",
      "==============================================================================\n",
      "Dep. Variable:                    cnt   R-squared:                       0.840\n",
      "Model:                            OLS   Adj. R-squared:                  0.836\n",
      "Method:                 Least Squares   F-statistic:                     186.0\n",
      "Date:                Wed, 05 Jan 2022   Prob (F-statistic):          8.32e-187\n",
      "Time:                        22:53:20   Log-Likelihood:                 506.27\n",
      "No. Observations:                 510   AIC:                            -982.5\n",
      "Df Residuals:                     495   BIC:                            -919.0\n",
      "Df Model:                          14                                         \n",
      "Covariance Type:            nonrobust                                         \n",
      "====================================================================================================\n",
      "                                       coef    std err          t      P>|t|      [0.025      0.975]\n",
      "----------------------------------------------------------------------------------------------------\n",
      "const                                0.2474      0.032      7.747      0.000       0.185       0.310\n",
      "season_Spring                       -0.0635      0.021     -3.011      0.003      -0.105      -0.022\n",
      "season_Summer                        0.0396      0.015      2.597      0.010       0.010       0.070\n",
      "season_Winter                        0.0802      0.017      4.630      0.000       0.046       0.114\n",
      "mnth_Dec                            -0.0312      0.016     -1.924      0.055      -0.063       0.001\n",
      "mnth_Jan                            -0.0452      0.018     -2.488      0.013      -0.081      -0.010\n",
      "mnth_Jul                            -0.0508      0.018     -2.751      0.006      -0.087      -0.015\n",
      "mnth_Sep                             0.0734      0.017      4.350      0.000       0.040       0.107\n",
      "weathersit_Light_Snow-Light_Rain    -0.2899      0.024    -11.835      0.000      -0.338      -0.242\n",
      "weathersit_Misty-Mist_Cloudy        -0.0826      0.009     -9.474      0.000      -0.100      -0.065\n",
      "yr                                   0.2340      0.008     28.714      0.000       0.218       0.250\n",
      "holiday                             -0.1160      0.027     -4.342      0.000      -0.169      -0.064\n",
      "workingday                          -0.0229      0.009     -2.475      0.014      -0.041      -0.005\n",
      "temp                                 0.4564      0.035     13.058      0.000       0.388       0.525\n",
      "windspeed                           -0.1600      0.025     -6.353      0.000      -0.209      -0.110\n",
      "==============================================================================\n",
      "Omnibus:                       69.419   Durbin-Watson:                   2.029\n",
      "Prob(Omnibus):                  0.000   Jarque-Bera (JB):              154.539\n",
      "Skew:                          -0.736   Prob(JB):                     2.77e-34\n",
      "Kurtosis:                       5.260   Cond. No.                         20.6\n",
      "==============================================================================\n",
      "\n",
      "Notes:\n",
      "[1] Standard Errors assume that the covariance matrix of the errors is correctly specified.\n"
     ]
    }
   ],
   "source": [
    "print(lm.summary())"
   ]
  },
  {
   "cell_type": "code",
   "execution_count": 72,
   "id": "51233b8f",
   "metadata": {},
   "outputs": [
    {
     "data": {
      "text/html": [
       "<div>\n",
       "<style scoped>\n",
       "    .dataframe tbody tr th:only-of-type {\n",
       "        vertical-align: middle;\n",
       "    }\n",
       "\n",
       "    .dataframe tbody tr th {\n",
       "        vertical-align: top;\n",
       "    }\n",
       "\n",
       "    .dataframe thead th {\n",
       "        text-align: right;\n",
       "    }\n",
       "</style>\n",
       "<table border=\"1\" class=\"dataframe\">\n",
       "  <thead>\n",
       "    <tr style=\"text-align: right;\">\n",
       "      <th></th>\n",
       "      <th>Features</th>\n",
       "      <th>VIF</th>\n",
       "    </tr>\n",
       "  </thead>\n",
       "  <tbody>\n",
       "    <tr>\n",
       "      <th>12</th>\n",
       "      <td>temp</td>\n",
       "      <td>6.05</td>\n",
       "    </tr>\n",
       "    <tr>\n",
       "      <th>13</th>\n",
       "      <td>windspeed</td>\n",
       "      <td>4.64</td>\n",
       "    </tr>\n",
       "    <tr>\n",
       "      <th>11</th>\n",
       "      <td>workingday</td>\n",
       "      <td>3.56</td>\n",
       "    </tr>\n",
       "    <tr>\n",
       "      <th>0</th>\n",
       "      <td>season_Spring</td>\n",
       "      <td>3.08</td>\n",
       "    </tr>\n",
       "    <tr>\n",
       "      <th>1</th>\n",
       "      <td>season_Summer</td>\n",
       "      <td>2.31</td>\n",
       "    </tr>\n",
       "    <tr>\n",
       "      <th>2</th>\n",
       "      <td>season_Winter</td>\n",
       "      <td>2.25</td>\n",
       "    </tr>\n",
       "    <tr>\n",
       "      <th>9</th>\n",
       "      <td>yr</td>\n",
       "      <td>2.07</td>\n",
       "    </tr>\n",
       "    <tr>\n",
       "      <th>4</th>\n",
       "      <td>mnth_Jan</td>\n",
       "      <td>1.66</td>\n",
       "    </tr>\n",
       "    <tr>\n",
       "      <th>5</th>\n",
       "      <td>mnth_Jul</td>\n",
       "      <td>1.59</td>\n",
       "    </tr>\n",
       "    <tr>\n",
       "      <th>8</th>\n",
       "      <td>weathersit_Misty-Mist_Cloudy</td>\n",
       "      <td>1.56</td>\n",
       "    </tr>\n",
       "    <tr>\n",
       "      <th>6</th>\n",
       "      <td>mnth_Sep</td>\n",
       "      <td>1.34</td>\n",
       "    </tr>\n",
       "    <tr>\n",
       "      <th>3</th>\n",
       "      <td>mnth_Dec</td>\n",
       "      <td>1.29</td>\n",
       "    </tr>\n",
       "    <tr>\n",
       "      <th>10</th>\n",
       "      <td>holiday</td>\n",
       "      <td>1.11</td>\n",
       "    </tr>\n",
       "    <tr>\n",
       "      <th>7</th>\n",
       "      <td>weathersit_Light_Snow-Light_Rain</td>\n",
       "      <td>1.08</td>\n",
       "    </tr>\n",
       "  </tbody>\n",
       "</table>\n",
       "</div>"
      ],
      "text/plain": [
       "                            Features   VIF\n",
       "12                              temp  6.05\n",
       "13                         windspeed  4.64\n",
       "11                        workingday  3.56\n",
       "0                      season_Spring  3.08\n",
       "1                      season_Summer  2.31\n",
       "2                      season_Winter  2.25\n",
       "9                                 yr  2.07\n",
       "4                           mnth_Jan  1.66\n",
       "5                           mnth_Jul  1.59\n",
       "8       weathersit_Misty-Mist_Cloudy  1.56\n",
       "6                           mnth_Sep  1.34\n",
       "3                           mnth_Dec  1.29\n",
       "10                           holiday  1.11\n",
       "7   weathersit_Light_Snow-Light_Rain  1.08"
      ]
     },
     "execution_count": 72,
     "metadata": {},
     "output_type": "execute_result"
    }
   ],
   "source": [
    "# Calculate the VIFs for the new model\n",
    "vif = pd.DataFrame()\n",
    "X = X_train_new\n",
    "vif['Features'] = X.columns\n",
    "vif['VIF'] = [variance_inflation_factor(X.values, i) for i in range(X.shape[1])]\n",
    "vif['VIF'] = round(vif['VIF'], 2)\n",
    "vif = vif.sort_values(by = \"VIF\", ascending = False)\n",
    "vif"
   ]
  },
  {
   "cell_type": "markdown",
   "id": "df717396",
   "metadata": {},
   "source": [
    "`mnth_Dec` is still insignificant because of high p value . So we can drop it"
   ]
  },
  {
   "cell_type": "code",
   "execution_count": 73,
   "id": "d7103cc4",
   "metadata": {},
   "outputs": [],
   "source": [
    "X_train_new = X_train_new.drop(['mnth_Dec'], axis = 1)"
   ]
  },
  {
   "cell_type": "code",
   "execution_count": 74,
   "id": "168b8f25",
   "metadata": {},
   "outputs": [],
   "source": [
    "# Rebuiding model without mnth_Dec\n",
    "\n",
    "X_train_lm = sm.add_constant(X_train_new)\n",
    "lm = sm.OLS(y_train,X_train_lm).fit()"
   ]
  },
  {
   "cell_type": "code",
   "execution_count": 75,
   "id": "db9b1e8b",
   "metadata": {},
   "outputs": [
    {
     "name": "stdout",
     "output_type": "stream",
     "text": [
      "                            OLS Regression Results                            \n",
      "==============================================================================\n",
      "Dep. Variable:                    cnt   R-squared:                       0.839\n",
      "Model:                            OLS   Adj. R-squared:                  0.835\n",
      "Method:                 Least Squares   F-statistic:                     199.0\n",
      "Date:                Wed, 05 Jan 2022   Prob (F-statistic):          3.62e-187\n",
      "Time:                        22:53:29   Log-Likelihood:                 504.37\n",
      "No. Observations:                 510   AIC:                            -980.7\n",
      "Df Residuals:                     496   BIC:                            -921.5\n",
      "Df Model:                          13                                         \n",
      "Covariance Type:            nonrobust                                         \n",
      "====================================================================================================\n",
      "                                       coef    std err          t      P>|t|      [0.025      0.975]\n",
      "----------------------------------------------------------------------------------------------------\n",
      "const                                0.2324      0.031      7.484      0.000       0.171       0.293\n",
      "season_Spring                       -0.0618      0.021     -2.926      0.004      -0.103      -0.020\n",
      "season_Summer                        0.0429      0.015      2.825      0.005       0.013       0.073\n",
      "season_Winter                        0.0783      0.017      4.513      0.000       0.044       0.112\n",
      "mnth_Jan                            -0.0377      0.018     -2.115      0.035      -0.073      -0.003\n",
      "mnth_Jul                            -0.0513      0.019     -2.771      0.006      -0.088      -0.015\n",
      "mnth_Sep                             0.0758      0.017      4.495      0.000       0.043       0.109\n",
      "weathersit_Light_Snow-Light_Rain    -0.2873      0.025    -11.713      0.000      -0.335      -0.239\n",
      "weathersit_Misty-Mist_Cloudy        -0.0825      0.009     -9.438      0.000      -0.100      -0.065\n",
      "yr                                   0.2341      0.008     28.641      0.000       0.218       0.250\n",
      "holiday                             -0.1138      0.027     -4.251      0.000      -0.166      -0.061\n",
      "workingday                          -0.0221      0.009     -2.376      0.018      -0.040      -0.004\n",
      "temp                                 0.4719      0.034     13.842      0.000       0.405       0.539\n",
      "windspeed                           -0.1550      0.025     -6.172      0.000      -0.204      -0.106\n",
      "==============================================================================\n",
      "Omnibus:                       65.303   Durbin-Watson:                   2.041\n",
      "Prob(Omnibus):                  0.000   Jarque-Bera (JB):              140.668\n",
      "Skew:                          -0.707   Prob(JB):                     2.85e-31\n",
      "Kurtosis:                       5.150   Cond. No.                         20.0\n",
      "==============================================================================\n",
      "\n",
      "Notes:\n",
      "[1] Standard Errors assume that the covariance matrix of the errors is correctly specified.\n"
     ]
    }
   ],
   "source": [
    "print(lm.summary())"
   ]
  },
  {
   "cell_type": "markdown",
   "id": "97d1883d",
   "metadata": {},
   "source": [
    "`mnth_Jan` is still insignificant because of high p value . So we can drop it"
   ]
  },
  {
   "cell_type": "code",
   "execution_count": 76,
   "id": "60cd374a",
   "metadata": {},
   "outputs": [],
   "source": [
    "X_train_new = X_train_new.drop(['mnth_Jan'], axis = 1)"
   ]
  },
  {
   "cell_type": "code",
   "execution_count": 77,
   "id": "fbb0ab23",
   "metadata": {},
   "outputs": [],
   "source": [
    "# Rebuiding model without mnth_Jan\n",
    "\n",
    "X_train_lm = sm.add_constant(X_train_new)\n",
    "lm = sm.OLS(y_train,X_train_lm).fit()"
   ]
  },
  {
   "cell_type": "code",
   "execution_count": 78,
   "id": "1c94498c",
   "metadata": {},
   "outputs": [
    {
     "name": "stdout",
     "output_type": "stream",
     "text": [
      "                            OLS Regression Results                            \n",
      "==============================================================================\n",
      "Dep. Variable:                    cnt   R-squared:                       0.838\n",
      "Model:                            OLS   Adj. R-squared:                  0.834\n",
      "Method:                 Least Squares   F-statistic:                     213.7\n",
      "Date:                Wed, 05 Jan 2022   Prob (F-statistic):          2.23e-187\n",
      "Time:                        22:53:36   Log-Likelihood:                 502.08\n",
      "No. Observations:                 510   AIC:                            -978.2\n",
      "Df Residuals:                     497   BIC:                            -923.1\n",
      "Df Model:                          12                                         \n",
      "Covariance Type:            nonrobust                                         \n",
      "====================================================================================================\n",
      "                                       coef    std err          t      P>|t|      [0.025      0.975]\n",
      "----------------------------------------------------------------------------------------------------\n",
      "const                                0.2169      0.030      7.163      0.000       0.157       0.276\n",
      "season_Spring                       -0.0672      0.021     -3.193      0.001      -0.109      -0.026\n",
      "season_Summer                        0.0460      0.015      3.029      0.003       0.016       0.076\n",
      "season_Winter                        0.0843      0.017      4.907      0.000       0.051       0.118\n",
      "mnth_Jul                            -0.0530      0.019     -2.855      0.004      -0.089      -0.017\n",
      "mnth_Sep                             0.0762      0.017      4.506      0.000       0.043       0.109\n",
      "weathersit_Light_Snow-Light_Rain    -0.2861      0.025    -11.626      0.000      -0.334      -0.238\n",
      "weathersit_Misty-Mist_Cloudy        -0.0834      0.009     -9.518      0.000      -0.101      -0.066\n",
      "yr                                   0.2334      0.008     28.479      0.000       0.217       0.249\n",
      "holiday                             -0.1146      0.027     -4.267      0.000      -0.167      -0.062\n",
      "workingday                          -0.0222      0.009     -2.385      0.017      -0.041      -0.004\n",
      "temp                                 0.4905      0.033     14.836      0.000       0.426       0.555\n",
      "windspeed                           -0.1481      0.025     -5.928      0.000      -0.197      -0.099\n",
      "==============================================================================\n",
      "Omnibus:                       64.475   Durbin-Watson:                   2.036\n",
      "Prob(Omnibus):                  0.000   Jarque-Bera (JB):              139.280\n",
      "Skew:                          -0.698   Prob(JB):                     5.70e-31\n",
      "Kurtosis:                       5.146   Cond. No.                         19.5\n",
      "==============================================================================\n",
      "\n",
      "Notes:\n",
      "[1] Standard Errors assume that the covariance matrix of the errors is correctly specified.\n"
     ]
    }
   ],
   "source": [
    "print(lm.summary())"
   ]
  },
  {
   "cell_type": "markdown",
   "id": "cc462ca7",
   "metadata": {},
   "source": [
    "`workingday` is still insignificant because of high p value . So we can drop it"
   ]
  },
  {
   "cell_type": "code",
   "execution_count": 79,
   "id": "972b4e71",
   "metadata": {},
   "outputs": [],
   "source": [
    "X_train_new = X_train_new.drop(['workingday'], axis = 1)"
   ]
  },
  {
   "cell_type": "code",
   "execution_count": 80,
   "id": "71501951",
   "metadata": {},
   "outputs": [],
   "source": [
    "# Rebuiding model without workingday\n",
    "\n",
    "X_train_lm = sm.add_constant(X_train_new)\n",
    "lm = sm.OLS(y_train,X_train_lm).fit()"
   ]
  },
  {
   "cell_type": "code",
   "execution_count": 81,
   "id": "eba31b02",
   "metadata": {},
   "outputs": [
    {
     "name": "stdout",
     "output_type": "stream",
     "text": [
      "                            OLS Regression Results                            \n",
      "==============================================================================\n",
      "Dep. Variable:                    cnt   R-squared:                       0.836\n",
      "Model:                            OLS   Adj. R-squared:                  0.832\n",
      "Method:                 Least Squares   F-statistic:                     230.4\n",
      "Date:                Wed, 05 Jan 2022   Prob (F-statistic):          2.40e-187\n",
      "Time:                        22:53:42   Log-Likelihood:                 499.17\n",
      "No. Observations:                 510   AIC:                            -974.3\n",
      "Df Residuals:                     498   BIC:                            -923.5\n",
      "Df Model:                          11                                         \n",
      "Covariance Type:            nonrobust                                         \n",
      "====================================================================================================\n",
      "                                       coef    std err          t      P>|t|      [0.025      0.975]\n",
      "----------------------------------------------------------------------------------------------------\n",
      "const                                0.1996      0.030      6.758      0.000       0.142       0.258\n",
      "season_Spring                       -0.0669      0.021     -3.167      0.002      -0.108      -0.025\n",
      "season_Summer                        0.0453      0.015      2.971      0.003       0.015       0.075\n",
      "season_Winter                        0.0831      0.017      4.818      0.000       0.049       0.117\n",
      "mnth_Jul                            -0.0524      0.019     -2.811      0.005      -0.089      -0.016\n",
      "mnth_Sep                             0.0767      0.017      4.511      0.000       0.043       0.110\n",
      "weathersit_Light_Snow-Light_Rain    -0.2852      0.025    -11.536      0.000      -0.334      -0.237\n",
      "weathersit_Misty-Mist_Cloudy        -0.0816      0.009     -9.301      0.000      -0.099      -0.064\n",
      "yr                                   0.2335      0.008     28.361      0.000       0.217       0.250\n",
      "holiday                             -0.0980      0.026     -3.761      0.000      -0.149      -0.047\n",
      "temp                                 0.4915      0.033     14.798      0.000       0.426       0.557\n",
      "windspeed                           -0.1480      0.025     -5.893      0.000      -0.197      -0.099\n",
      "==============================================================================\n",
      "Omnibus:                       59.298   Durbin-Watson:                   2.041\n",
      "Prob(Omnibus):                  0.000   Jarque-Bera (JB):              135.189\n",
      "Skew:                          -0.628   Prob(JB):                     4.41e-30\n",
      "Kurtosis:                       5.187   Cond. No.                         17.3\n",
      "==============================================================================\n",
      "\n",
      "Notes:\n",
      "[1] Standard Errors assume that the covariance matrix of the errors is correctly specified.\n"
     ]
    }
   ],
   "source": [
    "print(lm.summary())"
   ]
  },
  {
   "cell_type": "code",
   "execution_count": 82,
   "id": "cfdaa21a",
   "metadata": {},
   "outputs": [
    {
     "data": {
      "text/html": [
       "<div>\n",
       "<style scoped>\n",
       "    .dataframe tbody tr th:only-of-type {\n",
       "        vertical-align: middle;\n",
       "    }\n",
       "\n",
       "    .dataframe tbody tr th {\n",
       "        vertical-align: top;\n",
       "    }\n",
       "\n",
       "    .dataframe thead th {\n",
       "        text-align: right;\n",
       "    }\n",
       "</style>\n",
       "<table border=\"1\" class=\"dataframe\">\n",
       "  <thead>\n",
       "    <tr style=\"text-align: right;\">\n",
       "      <th></th>\n",
       "      <th>Features</th>\n",
       "      <th>VIF</th>\n",
       "    </tr>\n",
       "  </thead>\n",
       "  <tbody>\n",
       "    <tr>\n",
       "      <th>9</th>\n",
       "      <td>temp</td>\n",
       "      <td>5.09</td>\n",
       "    </tr>\n",
       "    <tr>\n",
       "      <th>10</th>\n",
       "      <td>windspeed</td>\n",
       "      <td>4.60</td>\n",
       "    </tr>\n",
       "    <tr>\n",
       "      <th>1</th>\n",
       "      <td>season_Summer</td>\n",
       "      <td>2.21</td>\n",
       "    </tr>\n",
       "    <tr>\n",
       "      <th>0</th>\n",
       "      <td>season_Spring</td>\n",
       "      <td>2.08</td>\n",
       "    </tr>\n",
       "    <tr>\n",
       "      <th>7</th>\n",
       "      <td>yr</td>\n",
       "      <td>2.07</td>\n",
       "    </tr>\n",
       "    <tr>\n",
       "      <th>2</th>\n",
       "      <td>season_Winter</td>\n",
       "      <td>1.79</td>\n",
       "    </tr>\n",
       "    <tr>\n",
       "      <th>3</th>\n",
       "      <td>mnth_Jul</td>\n",
       "      <td>1.58</td>\n",
       "    </tr>\n",
       "    <tr>\n",
       "      <th>6</th>\n",
       "      <td>weathersit_Misty-Mist_Cloudy</td>\n",
       "      <td>1.55</td>\n",
       "    </tr>\n",
       "    <tr>\n",
       "      <th>4</th>\n",
       "      <td>mnth_Sep</td>\n",
       "      <td>1.34</td>\n",
       "    </tr>\n",
       "    <tr>\n",
       "      <th>5</th>\n",
       "      <td>weathersit_Light_Snow-Light_Rain</td>\n",
       "      <td>1.08</td>\n",
       "    </tr>\n",
       "    <tr>\n",
       "      <th>8</th>\n",
       "      <td>holiday</td>\n",
       "      <td>1.04</td>\n",
       "    </tr>\n",
       "  </tbody>\n",
       "</table>\n",
       "</div>"
      ],
      "text/plain": [
       "                            Features   VIF\n",
       "9                               temp  5.09\n",
       "10                         windspeed  4.60\n",
       "1                      season_Summer  2.21\n",
       "0                      season_Spring  2.08\n",
       "7                                 yr  2.07\n",
       "2                      season_Winter  1.79\n",
       "3                           mnth_Jul  1.58\n",
       "6       weathersit_Misty-Mist_Cloudy  1.55\n",
       "4                           mnth_Sep  1.34\n",
       "5   weathersit_Light_Snow-Light_Rain  1.08\n",
       "8                            holiday  1.04"
      ]
     },
     "execution_count": 82,
     "metadata": {},
     "output_type": "execute_result"
    }
   ],
   "source": [
    "# Calculate the VIFs for the new model\n",
    "vif = pd.DataFrame()\n",
    "X = X_train_new\n",
    "vif['Features'] = X.columns\n",
    "vif['VIF'] = [variance_inflation_factor(X.values, i) for i in range(X.shape[1])]\n",
    "vif['VIF'] = round(vif['VIF'], 2)\n",
    "vif = vif.sort_values(by = \"VIF\", ascending = False)\n",
    "vif"
   ]
  },
  {
   "cell_type": "markdown",
   "id": "8513d358",
   "metadata": {},
   "source": [
    "#### Now model seems having good R- squared with allowable VIF and P values of columns"
   ]
  },
  {
   "cell_type": "markdown",
   "id": "1d9ea841",
   "metadata": {},
   "source": [
    "### Lets proceed with residual analysis of the train data"
   ]
  },
  {
   "cell_type": "code",
   "execution_count": 83,
   "id": "b7bf9c44",
   "metadata": {},
   "outputs": [],
   "source": [
    "# Predicting Y value of train data\n",
    "\n",
    "y_train_pred = lm.predict(X_train_lm)"
   ]
  },
  {
   "cell_type": "code",
   "execution_count": 84,
   "id": "49992dfa",
   "metadata": {},
   "outputs": [
    {
     "data": {
      "image/png": "[encoded data removed]",
      "text/plain": [
       "<Figure size 432x288 with 1 Axes>"
      ]
     },
     "metadata": {
      "needs_background": "light"
     },
     "output_type": "display_data"
    }
   ],
   "source": [
    "# Plotting actual value - predicted value (error)\n",
    "\n",
    "fig = plt.figure()\n",
    "sns.distplot((y_train - y_train_pred), bins = 20)\n",
    "fig.suptitle('Error Terms', fontsize = 20)\n",
    "plt.xlabel('Errors', fontsize = 18)  \n",
    "plt.show()"
   ]
  },
  {
   "cell_type": "markdown",
   "id": "634a95e4",
   "metadata": {},
   "source": [
    "#### Insights :\n",
    "- Here , we can see error terms are normally distributed with mean at zero.\n",
    "- R^2 for train data : `0.836`\n",
    "- Adjusted R^2 for train data : `0.832`"
   ]
  },
  {
   "cell_type": "markdown",
   "id": "80de332b",
   "metadata": {},
   "source": [
    "### Making Predictions with the Final Model"
   ]
  },
  {
   "cell_type": "code",
   "execution_count": 85,
   "id": "71cef9fd",
   "metadata": {},
   "outputs": [],
   "source": [
    "#Scaling the test data\n",
    "\n",
    "num_col=['temp', 'atemp', 'hum', 'windspeed','cnt']\n",
    "\n",
    "bike_test[num_col] = scaler.transform(bike_test[num_col])"
   ]
  },
  {
   "cell_type": "code",
   "execution_count": 86,
   "id": "547bbaf0",
   "metadata": {},
   "outputs": [
    {
     "data": {
      "text/html": [
       "<div>\n",
       "<style scoped>\n",
       "    .dataframe tbody tr th:only-of-type {\n",
       "        vertical-align: middle;\n",
       "    }\n",
       "\n",
       "    .dataframe tbody tr th {\n",
       "        vertical-align: top;\n",
       "    }\n",
       "\n",
       "    .dataframe thead th {\n",
       "        text-align: right;\n",
       "    }\n",
       "</style>\n",
       "<table border=\"1\" class=\"dataframe\">\n",
       "  <thead>\n",
       "    <tr style=\"text-align: right;\">\n",
       "      <th></th>\n",
       "      <th>season_Spring</th>\n",
       "      <th>season_Summer</th>\n",
       "      <th>season_Winter</th>\n",
       "      <th>mnth_Aug</th>\n",
       "      <th>mnth_Dec</th>\n",
       "      <th>mnth_Feb</th>\n",
       "      <th>mnth_Jan</th>\n",
       "      <th>mnth_Jul</th>\n",
       "      <th>mnth_Jun</th>\n",
       "      <th>mnth_Mar</th>\n",
       "      <th>...</th>\n",
       "      <th>weathersit_Light_Snow-Light_Rain</th>\n",
       "      <th>weathersit_Misty-Mist_Cloudy</th>\n",
       "      <th>yr</th>\n",
       "      <th>holiday</th>\n",
       "      <th>workingday</th>\n",
       "      <th>temp</th>\n",
       "      <th>atemp</th>\n",
       "      <th>hum</th>\n",
       "      <th>windspeed</th>\n",
       "      <th>cnt</th>\n",
       "    </tr>\n",
       "  </thead>\n",
       "  <tbody>\n",
       "    <tr>\n",
       "      <th>184</th>\n",
       "      <td>0</td>\n",
       "      <td>0</td>\n",
       "      <td>0</td>\n",
       "      <td>0</td>\n",
       "      <td>0</td>\n",
       "      <td>0</td>\n",
       "      <td>0</td>\n",
       "      <td>1</td>\n",
       "      <td>0</td>\n",
       "      <td>0</td>\n",
       "      <td>...</td>\n",
       "      <td>0</td>\n",
       "      <td>1</td>\n",
       "      <td>0</td>\n",
       "      <td>1</td>\n",
       "      <td>0</td>\n",
       "      <td>0.831783</td>\n",
       "      <td>0.769660</td>\n",
       "      <td>0.657364</td>\n",
       "      <td>0.084219</td>\n",
       "      <td>0.692706</td>\n",
       "    </tr>\n",
       "    <tr>\n",
       "      <th>535</th>\n",
       "      <td>0</td>\n",
       "      <td>1</td>\n",
       "      <td>0</td>\n",
       "      <td>0</td>\n",
       "      <td>0</td>\n",
       "      <td>0</td>\n",
       "      <td>0</td>\n",
       "      <td>0</td>\n",
       "      <td>1</td>\n",
       "      <td>0</td>\n",
       "      <td>...</td>\n",
       "      <td>0</td>\n",
       "      <td>0</td>\n",
       "      <td>1</td>\n",
       "      <td>0</td>\n",
       "      <td>1</td>\n",
       "      <td>0.901354</td>\n",
       "      <td>0.842587</td>\n",
       "      <td>0.610133</td>\n",
       "      <td>0.153728</td>\n",
       "      <td>0.712034</td>\n",
       "    </tr>\n",
       "    <tr>\n",
       "      <th>299</th>\n",
       "      <td>0</td>\n",
       "      <td>0</td>\n",
       "      <td>1</td>\n",
       "      <td>0</td>\n",
       "      <td>0</td>\n",
       "      <td>0</td>\n",
       "      <td>0</td>\n",
       "      <td>0</td>\n",
       "      <td>0</td>\n",
       "      <td>0</td>\n",
       "      <td>...</td>\n",
       "      <td>0</td>\n",
       "      <td>1</td>\n",
       "      <td>0</td>\n",
       "      <td>0</td>\n",
       "      <td>0</td>\n",
       "      <td>0.511964</td>\n",
       "      <td>0.496145</td>\n",
       "      <td>0.837699</td>\n",
       "      <td>0.334206</td>\n",
       "      <td>0.303382</td>\n",
       "    </tr>\n",
       "    <tr>\n",
       "      <th>221</th>\n",
       "      <td>0</td>\n",
       "      <td>0</td>\n",
       "      <td>0</td>\n",
       "      <td>1</td>\n",
       "      <td>0</td>\n",
       "      <td>0</td>\n",
       "      <td>0</td>\n",
       "      <td>0</td>\n",
       "      <td>0</td>\n",
       "      <td>0</td>\n",
       "      <td>...</td>\n",
       "      <td>0</td>\n",
       "      <td>0</td>\n",
       "      <td>0</td>\n",
       "      <td>0</td>\n",
       "      <td>1</td>\n",
       "      <td>0.881625</td>\n",
       "      <td>0.795343</td>\n",
       "      <td>0.437098</td>\n",
       "      <td>0.339570</td>\n",
       "      <td>0.547400</td>\n",
       "    </tr>\n",
       "    <tr>\n",
       "      <th>152</th>\n",
       "      <td>0</td>\n",
       "      <td>1</td>\n",
       "      <td>0</td>\n",
       "      <td>0</td>\n",
       "      <td>0</td>\n",
       "      <td>0</td>\n",
       "      <td>0</td>\n",
       "      <td>0</td>\n",
       "      <td>1</td>\n",
       "      <td>0</td>\n",
       "      <td>...</td>\n",
       "      <td>0</td>\n",
       "      <td>0</td>\n",
       "      <td>0</td>\n",
       "      <td>0</td>\n",
       "      <td>0</td>\n",
       "      <td>0.817246</td>\n",
       "      <td>0.741471</td>\n",
       "      <td>0.314298</td>\n",
       "      <td>0.537414</td>\n",
       "      <td>0.569029</td>\n",
       "    </tr>\n",
       "  </tbody>\n",
       "</table>\n",
       "<p>5 rows × 30 columns</p>\n",
       "</div>"
      ],
      "text/plain": [
       "     season_Spring  season_Summer  season_Winter  mnth_Aug  mnth_Dec  \\\n",
       "184              0              0              0         0         0   \n",
       "535              0              1              0         0         0   \n",
       "299              0              0              1         0         0   \n",
       "221              0              0              0         1         0   \n",
       "152              0              1              0         0         0   \n",
       "\n",
       "     mnth_Feb  mnth_Jan  mnth_Jul  mnth_Jun  mnth_Mar  ...  \\\n",
       "184         0         0         1         0         0  ...   \n",
       "535         0         0         0         1         0  ...   \n",
       "299         0         0         0         0         0  ...   \n",
       "221         0         0         0         0         0  ...   \n",
       "152         0         0         0         1         0  ...   \n",
       "\n",
       "     weathersit_Light_Snow-Light_Rain  weathersit_Misty-Mist_Cloudy  yr  \\\n",
       "184                                 0                             1   0   \n",
       "535                                 0                             0   1   \n",
       "299                                 0                             1   0   \n",
       "221                                 0                             0   0   \n",
       "152                                 0                             0   0   \n",
       "\n",
       "     holiday  workingday      temp     atemp       hum  windspeed       cnt  \n",
       "184        1           0  0.831783  0.769660  0.657364   0.084219  0.692706  \n",
       "535        0           1  0.901354  0.842587  0.610133   0.153728  0.712034  \n",
       "299        0           0  0.511964  0.496145  0.837699   0.334206  0.303382  \n",
       "221        0           1  0.881625  0.795343  0.437098   0.339570  0.547400  \n",
       "152        0           0  0.817246  0.741471  0.314298   0.537414  0.569029  \n",
       "\n",
       "[5 rows x 30 columns]"
      ]
     },
     "execution_count": 86,
     "metadata": {},
     "output_type": "execute_result"
    }
   ],
   "source": [
    "bike_test.head()"
   ]
  },
  {
   "cell_type": "code",
   "execution_count": 87,
   "id": "978556b2",
   "metadata": {},
   "outputs": [],
   "source": [
    "# Diving test data into X and y\n",
    "\n",
    "y_test=bike_test.pop('cnt')\n",
    "X_test=bike_test"
   ]
  },
  {
   "cell_type": "code",
   "execution_count": 88,
   "id": "b4734aff",
   "metadata": {},
   "outputs": [],
   "source": [
    "# Creating X_test_new dataframe by dropping variables from X_test\n",
    "\n",
    "X_test_new = X_test[X_train_new.columns]\n",
    "\n",
    "# Adding a constant variable \n",
    "\n",
    "X_test_new = sm.add_constant(X_test_new)"
   ]
  },
  {
   "cell_type": "code",
   "execution_count": 89,
   "id": "3bcf1fa9",
   "metadata": {},
   "outputs": [],
   "source": [
    "# Making predictions\n",
    "\n",
    "y_test_pred = lm.predict(X_test_new)"
   ]
  },
  {
   "cell_type": "code",
   "execution_count": 90,
   "id": "72d5d3bb",
   "metadata": {},
   "outputs": [
    {
     "data": {
      "text/plain": [
       "0.8049"
      ]
     },
     "execution_count": 90,
     "metadata": {},
     "output_type": "execute_result"
    }
   ],
   "source": [
    "# using scikit learn library for calculating R2 Score\n",
    "\n",
    "from sklearn.metrics import r2_score\n",
    "round(r2_score(y_test, y_test_pred),4)"
   ]
  },
  {
   "cell_type": "markdown",
   "id": "b6727ac1",
   "metadata": {},
   "source": [
    "#### R square of our linear model is 80.4"
   ]
  },
  {
   "cell_type": "code",
   "execution_count": 91,
   "id": "e17d1cba",
   "metadata": {},
   "outputs": [
    {
     "data": {
      "text/plain": [
       "0.009264444750858143"
      ]
     },
     "execution_count": 91,
     "metadata": {},
     "output_type": "execute_result"
    }
   ],
   "source": [
    "# using scikit learn library for calculating mean_squared_error\n",
    "\n",
    "from sklearn.metrics import mean_squared_error\n",
    "mean_squared_error(y_test, y_test_pred)"
   ]
  },
  {
   "cell_type": "markdown",
   "id": "051310b0",
   "metadata": {},
   "source": [
    "## 5.  Model Evaluation"
   ]
  },
  {
   "cell_type": "code",
   "execution_count": 92,
   "id": "f79ec7db",
   "metadata": {},
   "outputs": [
    {
     "data": {
      "image/png": "[encoded data removed]",
      "text/plain": [
       "<Figure size 432x288 with 1 Axes>"
      ]
     },
     "metadata": {
      "needs_background": "light"
     },
     "output_type": "display_data"
    }
   ],
   "source": [
    "# Plotting y_test and y_test_pred\n",
    "\n",
    "fig = plt.figure()\n",
    "plt.scatter(y_test, y_test_pred)\n",
    "fig.suptitle('y_test vs y_test_pred', fontsize = 20)\n",
    "plt.xlabel('y_test', fontsize = 15)\n",
    "plt.ylabel('y_test_pred', fontsize = 15) \n",
    "plt.show()"
   ]
  },
  {
   "cell_type": "markdown",
   "id": "f49763c1",
   "metadata": {},
   "source": [
    "### Insights\n",
    "-  This model seems good for demand prediction of bikes based on specific features. \n",
    "- As we can see above actual and predicted values are overlapping, thus this indicates that the model is able to explain the bike demand trend."
   ]
  },
  {
   "cell_type": "markdown",
   "id": "6b36abc4",
   "metadata": {},
   "source": [
    "### Creating equation for best fitted line as per our model"
   ]
  },
  {
   "cell_type": "code",
   "execution_count": 93,
   "id": "c112223c",
   "metadata": {
    "scrolled": true
   },
   "outputs": [
    {
     "data": {
      "text/plain": [
       "const                               0.199648\n",
       "season_Spring                      -0.066942\n",
       "season_Summer                       0.045280\n",
       "season_Winter                       0.083084\n",
       "mnth_Jul                           -0.052418\n",
       "mnth_Sep                            0.076686\n",
       "weathersit_Light_Snow-Light_Rain   -0.285155\n",
       "weathersit_Misty-Mist_Cloudy       -0.081558\n",
       "yr                                  0.233482\n",
       "holiday                            -0.098013\n",
       "temp                                0.491508\n",
       "windspeed                          -0.147977\n",
       "dtype: float64"
      ]
     },
     "execution_count": 93,
     "metadata": {},
     "output_type": "execute_result"
    }
   ],
   "source": [
    "lm.params"
   ]
  },
  {
   "cell_type": "raw",
   "id": "ed3117de",
   "metadata": {},
   "source": [
    "cnt = 0.199648 + (-0.066942)*season_Spring + (0.045280)*season_Summer + (0.083084)*season_Winter + (-0.052418)*mnth_Jul + (0.076686)*mnth_Sep + (-0.285155)*weathersit_Light_Snow-Light_Rain + (-0.081558)*weathersit_Misty-Mist_Cloudy + (0.233482)*yr+ (-0.098013)*holiday + (0.491508)*temp + (-0.147977)*windspeed"
   ]
  },
  {
   "cell_type": "code",
   "execution_count": 94,
   "id": "6f8c166c",
   "metadata": {},
   "outputs": [
    {
     "data": {
      "text/plain": [
       "0.78"
      ]
     },
     "execution_count": 94,
     "metadata": {},
     "output_type": "execute_result"
    }
   ],
   "source": [
    "# Calculating Adjusted R-squared value for the test dataset\n",
    "r2_test= r2_score(y_test, y_test_pred)\n",
    "adj_r2 = round(1-(1-r2_test)*(X_test.shape[0]-1)/(X_test.shape[0]-X_test.shape[1]-1),2)\n",
    "adj_r2"
   ]
  },
  {
   "cell_type": "markdown",
   "id": "007bb165",
   "metadata": {},
   "source": [
    "#### Insights :\n",
    "- R^2 for test data : `0.80`\n",
    "- Adjusted R^2 for test data : `0.78`"
   ]
  },
  {
   "cell_type": "markdown",
   "id": "0920225c",
   "metadata": {},
   "source": [
    "## Final conclusive points"
   ]
  },
  {
   "cell_type": "code",
   "execution_count": 95,
   "id": "588f052a",
   "metadata": {},
   "outputs": [
    {
     "data": {
      "text/plain": [
       "temp                                0.491508\n",
       "yr                                  0.233482\n",
       "const                               0.199648\n",
       "season_Winter                       0.083084\n",
       "mnth_Sep                            0.076686\n",
       "season_Summer                       0.045280\n",
       "mnth_Jul                           -0.052418\n",
       "season_Spring                      -0.066942\n",
       "weathersit_Misty-Mist_Cloudy       -0.081558\n",
       "holiday                            -0.098013\n",
       "windspeed                          -0.147977\n",
       "weathersit_Light_Snow-Light_Rain   -0.285155\n",
       "dtype: float64"
      ]
     },
     "execution_count": 95,
     "metadata": {},
     "output_type": "execute_result"
    }
   ],
   "source": [
    "# Coefficients for columns in descending order\n",
    "\n",
    "lm.params.sort_values(ascending=False)"
   ]
  },
  {
   "cell_type": "markdown",
   "id": "b189606d",
   "metadata": {},
   "source": [
    "### 1 . temp (Temperature) \n",
    "- Coefficient is `0.491508`. It indicates that a unit increase in temp, increase the bike demand by 0.491508 units.\n",
    "(Consider other columns should not change.)\n",
    "\n",
    "### 2 . yr (Year)\n",
    "- Coefficient is `0.233482`. It indicates that a unit increase in year, increase the bike demand by 0.233482 units.\n",
    "(Consider other columns should not change.)\n",
    "\n",
    "### 3 . season_Winter\n",
    "- Coefficient is `0.199648`. It indicates that a unit increase in season_Winter, increases the bike demand by 0.199648 units.\n",
    "(Consider other columns should not change.)\n",
    "\n",
    "### 4 . mnth_Sep\n",
    "- Coefficient is `0.083084`. It indicates that a unit increase in mnth_Sep, increases the bike demand by 0.083084 units.\n",
    "(Consider other columns should not change.)\n",
    "\n",
    "### 5 . season_Summer\n",
    "- Coefficient is `0.045280`. It indicates that a unit increase in season_Summer, increases the bike demand by 0.045280 units.\n",
    "(Consider other columns should not change.)\n",
    "\n",
    "### 6 . mnth_Jul\n",
    "- Coefficient is `-0.052418`. It indicates that a unit increase in mnth_Jul, decreases the bike demand by 0.052418 units.\n",
    "(Consider other columns should not change.)\n",
    "\n",
    "### 7. holiday\n",
    "- Coefficient is `-0.098013`. It indicates that a unit increase in holiday, decreases the bike demand by 0.098013 units.\n",
    "(Consider other columns should not change.)\n",
    "\n",
    "### 8. windspeed\n",
    "- Coefficient is `-0.147977`. It indicates that a unit increase in windspeed, decreases the bike demand by 0.147977 units.\n",
    "(Consider other columns should not change.)\n",
    "\n",
    "\n",
    "### Same we can translate for other columns with their coefficients.\n",
    "\n",
    "\n",
    "### Key points : \n",
    "- Temp is the most significant having largest coefficient.\n",
    "- Demands increase with year .\n",
    "- Demands are more for the month of september.\n",
    "- Demands reduce with holidays and windspeed.\n"
   ]
  }
 ],
 "metadata": {
  "kernelspec": {
   "display_name": "Python 3",
   "language": "python",
   "name": "python3"
  },
  "language_info": {
   "codemirror_mode": {
    "name": "ipython",
    "version": 3
   },
   "file_extension": ".py",
   "mimetype": "text/x-python",
   "name": "python",
   "nbconvert_exporter": "python",
   "pygments_lexer": "ipython3",
   "version": "3.8.8"
  }
 },
 "nbformat": 4,
 "nbformat_minor": 5
}
